{
 "cells": [
  {
   "attachments": {},
   "cell_type": "markdown",
   "metadata": {},
   "source": [
    "# PyCity Schools Analysis\n",
    "\n",
    "- Your analysis here\n",
    "  \n",
    "---"
   ]
  },
  {
   "cell_type": "code",
   "execution_count": 1,
   "metadata": {},
   "outputs": [
    {
     "data": {
      "text/html": [
       "<div>\n",
       "<style scoped>\n",
       "    .dataframe tbody tr th:only-of-type {\n",
       "        vertical-align: middle;\n",
       "    }\n",
       "\n",
       "    .dataframe tbody tr th {\n",
       "        vertical-align: top;\n",
       "    }\n",
       "\n",
       "    .dataframe thead th {\n",
       "        text-align: right;\n",
       "    }\n",
       "</style>\n",
       "<table border=\"1\" class=\"dataframe\">\n",
       "  <thead>\n",
       "    <tr style=\"text-align: right;\">\n",
       "      <th></th>\n",
       "      <th>Student ID</th>\n",
       "      <th>student_name</th>\n",
       "      <th>gender</th>\n",
       "      <th>grade</th>\n",
       "      <th>school_name</th>\n",
       "      <th>reading_score</th>\n",
       "      <th>math_score</th>\n",
       "      <th>School ID</th>\n",
       "      <th>type</th>\n",
       "      <th>size</th>\n",
       "      <th>budget</th>\n",
       "    </tr>\n",
       "  </thead>\n",
       "  <tbody>\n",
       "    <tr>\n",
       "      <th>0</th>\n",
       "      <td>0</td>\n",
       "      <td>Paul Bradley</td>\n",
       "      <td>M</td>\n",
       "      <td>9th</td>\n",
       "      <td>Huang High School</td>\n",
       "      <td>66</td>\n",
       "      <td>79</td>\n",
       "      <td>0</td>\n",
       "      <td>District</td>\n",
       "      <td>2917</td>\n",
       "      <td>1910635</td>\n",
       "    </tr>\n",
       "    <tr>\n",
       "      <th>1</th>\n",
       "      <td>1</td>\n",
       "      <td>Victor Smith</td>\n",
       "      <td>M</td>\n",
       "      <td>12th</td>\n",
       "      <td>Huang High School</td>\n",
       "      <td>94</td>\n",
       "      <td>61</td>\n",
       "      <td>0</td>\n",
       "      <td>District</td>\n",
       "      <td>2917</td>\n",
       "      <td>1910635</td>\n",
       "    </tr>\n",
       "    <tr>\n",
       "      <th>2</th>\n",
       "      <td>2</td>\n",
       "      <td>Kevin Rodriguez</td>\n",
       "      <td>M</td>\n",
       "      <td>12th</td>\n",
       "      <td>Huang High School</td>\n",
       "      <td>90</td>\n",
       "      <td>60</td>\n",
       "      <td>0</td>\n",
       "      <td>District</td>\n",
       "      <td>2917</td>\n",
       "      <td>1910635</td>\n",
       "    </tr>\n",
       "    <tr>\n",
       "      <th>3</th>\n",
       "      <td>3</td>\n",
       "      <td>Dr. Richard Scott</td>\n",
       "      <td>M</td>\n",
       "      <td>12th</td>\n",
       "      <td>Huang High School</td>\n",
       "      <td>67</td>\n",
       "      <td>58</td>\n",
       "      <td>0</td>\n",
       "      <td>District</td>\n",
       "      <td>2917</td>\n",
       "      <td>1910635</td>\n",
       "    </tr>\n",
       "    <tr>\n",
       "      <th>4</th>\n",
       "      <td>4</td>\n",
       "      <td>Bonnie Ray</td>\n",
       "      <td>F</td>\n",
       "      <td>9th</td>\n",
       "      <td>Huang High School</td>\n",
       "      <td>97</td>\n",
       "      <td>84</td>\n",
       "      <td>0</td>\n",
       "      <td>District</td>\n",
       "      <td>2917</td>\n",
       "      <td>1910635</td>\n",
       "    </tr>\n",
       "  </tbody>\n",
       "</table>\n",
       "</div>"
      ],
      "text/plain": [
       "   Student ID       student_name gender grade        school_name  \\\n",
       "0           0       Paul Bradley      M   9th  Huang High School   \n",
       "1           1       Victor Smith      M  12th  Huang High School   \n",
       "2           2    Kevin Rodriguez      M  12th  Huang High School   \n",
       "3           3  Dr. Richard Scott      M  12th  Huang High School   \n",
       "4           4         Bonnie Ray      F   9th  Huang High School   \n",
       "\n",
       "   reading_score  math_score  School ID      type  size   budget  \n",
       "0             66          79          0  District  2917  1910635  \n",
       "1             94          61          0  District  2917  1910635  \n",
       "2             90          60          0  District  2917  1910635  \n",
       "3             67          58          0  District  2917  1910635  \n",
       "4             97          84          0  District  2917  1910635  "
      ]
     },
     "execution_count": 1,
     "metadata": {},
     "output_type": "execute_result"
    }
   ],
   "source": [
    "# Dependencies and Setup\n",
    "import pandas as pd\n",
    "from pathlib import Path\n",
    "import numpy as np\n",
    "\n",
    "# File to Load (Remember to Change These)\n",
    "school_data_to_load = Path(\"PyCitySchools/Resources/schools_complete.csv\")\n",
    "student_data_to_load = Path(\"PyCitySchools/Resources/students_complete.csv\")\n",
    "\n",
    "# Read School and Student Data File and store into Pandas DataFrames\n",
    "school_data = pd.read_csv(school_data_to_load)\n",
    "student_data = pd.read_csv(student_data_to_load)\n",
    "\n",
    "# Combine the data into a single dataset.\n",
    "school_data_complete = pd.merge(student_data, school_data, how=\"left\", on=[\"school_name\", \"school_name\"])\n",
    "school_data_complete.head()\n"
   ]
  },
  {
   "cell_type": "code",
   "execution_count": 2,
   "metadata": {},
   "outputs": [
    {
     "data": {
      "text/plain": [
       "Index(['Student ID', 'student_name', 'gender', 'grade', 'school_name',\n",
       "       'reading_score', 'math_score', 'School ID', 'type', 'size', 'budget'],\n",
       "      dtype='object')"
      ]
     },
     "execution_count": 2,
     "metadata": {},
     "output_type": "execute_result"
    }
   ],
   "source": [
    "school_data_complete.columns"
   ]
  },
  {
   "cell_type": "markdown",
   "metadata": {},
   "source": [
    "## District Summary"
   ]
  },
  {
   "cell_type": "code",
   "execution_count": 3,
   "metadata": {},
   "outputs": [
    {
     "name": "stdout",
     "output_type": "stream",
     "text": [
      "15\n"
     ]
    }
   ],
   "source": [
    "# Calculate the total number of unique schools\n",
    "school_count = school_data_complete['school_name'].nunique()\n",
    "print(school_count)"
   ]
  },
  {
   "cell_type": "code",
   "execution_count": 4,
   "metadata": {},
   "outputs": [
    {
     "name": "stdout",
     "output_type": "stream",
     "text": [
      "39170\n"
     ]
    }
   ],
   "source": [
    "# Calculate the total number of students\n",
    "student_count = school_data['size'].sum()\n",
    "print(student_count)"
   ]
  },
  {
   "cell_type": "code",
   "execution_count": 5,
   "metadata": {},
   "outputs": [
    {
     "name": "stdout",
     "output_type": "stream",
     "text": [
      "24649428\n"
     ]
    }
   ],
   "source": [
    "# Calculate the total budget\n",
    "total_budget = school_data['budget'].sum()\n",
    "print(total_budget)"
   ]
  },
  {
   "cell_type": "code",
   "execution_count": 6,
   "metadata": {},
   "outputs": [
    {
     "data": {
      "text/plain": [
       "78.98537145774827"
      ]
     },
     "execution_count": 6,
     "metadata": {},
     "output_type": "execute_result"
    }
   ],
   "source": [
    "# Calculate the average (mean) math score\n",
    "average_math_score = school_data_complete[\"math_score\"].mean()\n",
    "average_math_score"
   ]
  },
  {
   "cell_type": "code",
   "execution_count": 7,
   "metadata": {},
   "outputs": [
    {
     "data": {
      "text/plain": [
       "81.87784018381414"
      ]
     },
     "execution_count": 7,
     "metadata": {},
     "output_type": "execute_result"
    }
   ],
   "source": [
    "# Calculate the average (mean) reading score\n",
    "average_reading_score = school_data_complete[\"reading_score\"].mean()\n",
    "average_reading_score"
   ]
  },
  {
   "cell_type": "code",
   "execution_count": 8,
   "metadata": {},
   "outputs": [
    {
     "name": "stdout",
     "output_type": "stream",
     "text": [
      "2\n"
     ]
    }
   ],
   "source": [
    "# Calculate the total number of unique types\n",
    "type = school_data_complete['type'].nunique()\n",
    "print(type)"
   ]
  },
  {
   "cell_type": "code",
   "execution_count": 9,
   "metadata": {},
   "outputs": [
    {
     "name": "stdout",
     "output_type": "stream",
     "text": [
      "29370\n"
     ]
    }
   ],
   "source": [
    "# Use the following to calculate the percentage of students who passed math (math scores greather than or equal to 70)\n",
    "passing_math_count = school_data_complete[(school_data_complete[\"math_score\"] >= 70)].count()[\"student_name\"]\n",
    "passing_math_percentage = passing_math_count / float(student_count) * 100\n",
    "passing_math_percentage\n",
    "print(passing_math_count)"
   ]
  },
  {
   "cell_type": "code",
   "execution_count": 10,
   "metadata": {},
   "outputs": [
    {
     "name": "stdout",
     "output_type": "stream",
     "text": [
      "33610\n"
     ]
    }
   ],
   "source": [
    "# Calculate the percentage of students who passed reading (hint: look at how the math percentage was calculated)\n",
    "passing_reading_count = school_data_complete[(school_data_complete[\"reading_score\"] >= 70)].count()[\"student_name\"]\n",
    "passing_reading_percentage = passing_reading_count / float(student_count) * 100\n",
    "print (passing_reading_count)"
   ]
  },
  {
   "cell_type": "code",
   "execution_count": 11,
   "metadata": {},
   "outputs": [
    {
     "data": {
      "text/plain": [
       "65.17232575950983"
      ]
     },
     "execution_count": 11,
     "metadata": {},
     "output_type": "execute_result"
    }
   ],
   "source": [
    "# Use the following to calculate the percentage of students that passed math and reading\n",
    "passing_math_reading_count = school_data_complete[\n",
    "    (school_data_complete[\"math_score\"] >= 70) & (school_data_complete[\"reading_score\"] >= 70)\n",
    "].count()[\"student_name\"]\n",
    "overall_passing_rate = passing_math_reading_count /  float(student_count) * 100\n",
    "overall_passing_rate"
   ]
  },
  {
   "cell_type": "code",
   "execution_count": 12,
   "metadata": {},
   "outputs": [
    {
     "data": {
      "text/html": [
       "<div>\n",
       "<style scoped>\n",
       "    .dataframe tbody tr th:only-of-type {\n",
       "        vertical-align: middle;\n",
       "    }\n",
       "\n",
       "    .dataframe tbody tr th {\n",
       "        vertical-align: top;\n",
       "    }\n",
       "\n",
       "    .dataframe thead th {\n",
       "        text-align: right;\n",
       "    }\n",
       "</style>\n",
       "<table border=\"1\" class=\"dataframe\">\n",
       "  <thead>\n",
       "    <tr style=\"text-align: right;\">\n",
       "      <th></th>\n",
       "      <th>Total Schools</th>\n",
       "      <th>Total Students</th>\n",
       "      <th>Total Budget</th>\n",
       "      <th>Average Math Score</th>\n",
       "      <th>Average Reading Score</th>\n",
       "      <th>% Passing Math</th>\n",
       "      <th>% Passing Reading</th>\n",
       "      <th>% Overall Passing</th>\n",
       "    </tr>\n",
       "  </thead>\n",
       "  <tbody>\n",
       "    <tr>\n",
       "      <th>0</th>\n",
       "      <td>15</td>\n",
       "      <td>39,170</td>\n",
       "      <td>$24,649,428.00</td>\n",
       "      <td>78.985371</td>\n",
       "      <td>81.87784</td>\n",
       "      <td>74.980853</td>\n",
       "      <td>85.805463</td>\n",
       "      <td>65.172326</td>\n",
       "    </tr>\n",
       "  </tbody>\n",
       "</table>\n",
       "</div>"
      ],
      "text/plain": [
       "   Total Schools Total Students    Total Budget  Average Math Score  \\\n",
       "0             15         39,170  $24,649,428.00           78.985371   \n",
       "\n",
       "   Average Reading Score  % Passing Math  % Passing Reading  % Overall Passing  \n",
       "0               81.87784       74.980853          85.805463          65.172326  "
      ]
     },
     "execution_count": 12,
     "metadata": {},
     "output_type": "execute_result"
    }
   ],
   "source": [
    "# Create a high-level snapshot of the district's key metrics in a DataFrame\n",
    "district_summary = pd.DataFrame(\n",
    "          [{\"Total Schools\": school_count, \n",
    "          \"Total Students\": student_count, \n",
    "          \"Total Budget\": total_budget,\n",
    "          \"Average Math Score\": average_math_score, \n",
    "          \"Average Reading Score\": average_reading_score,\n",
    "          \"% Passing Math\": passing_math_percentage,\n",
    "         \"% Passing Reading\": passing_reading_percentage,\n",
    "        \"% Overall Passing\": overall_passing_rate}])\n",
    "\n",
    "# Formatting\n",
    "district_summary[\"Total Students\"] = district_summary[\"Total Students\"].map(\"{:,}\".format)\n",
    "district_summary[\"Total Budget\"] = district_summary[\"Total Budget\"].map(\"${:,.2f}\".format)\n",
    "\n",
    "# Display the DataFrame\n",
    "district_summary"
   ]
  },
  {
   "cell_type": "markdown",
   "metadata": {},
   "source": [
    "## School Summary"
   ]
  },
  {
   "cell_type": "code",
   "execution_count": 13,
   "metadata": {},
   "outputs": [
    {
     "name": "stdout",
     "output_type": "stream",
     "text": [
      "school_name\n",
      "Huang High School     District\n",
      "Huang High School     District\n",
      "Huang High School     District\n",
      "Huang High School     District\n",
      "Huang High School     District\n",
      "                        ...   \n",
      "Thomas High School     Charter\n",
      "Thomas High School     Charter\n",
      "Thomas High School     Charter\n",
      "Thomas High School     Charter\n",
      "Thomas High School     Charter\n",
      "Name: type, Length: 39170, dtype: object\n"
     ]
    }
   ],
   "source": [
    "# Use the code provided to select the type per school from school_data\n",
    "unique_school_names = school_data_complete.set_index(['school_name'])['type']\n",
    "print(unique_school_names)"
   ]
  },
  {
   "cell_type": "code",
   "execution_count": 14,
   "metadata": {},
   "outputs": [],
   "source": [
    "# Calculate the total student count per school from school_data\n",
    "school_counts = school_data_complete[\"school_name\"].value_counts()"
   ]
  },
  {
   "cell_type": "code",
   "execution_count": 15,
   "metadata": {},
   "outputs": [
    {
     "name": "stdout",
     "output_type": "stream",
     "text": [
      "school_name\n",
      "Bailey High School       208328.533333\n",
      "Cabrera High School       72090.400000\n",
      "Figueroa High School     125627.400000\n",
      "Ford High School         117594.400000\n",
      "Griffin High School       61166.666667\n",
      "Hernandez High School    201468.000000\n",
      "Holden High School        16539.133333\n",
      "Huang High School        127375.666667\n",
      "Johnson High School      206310.000000\n",
      "Pena High School          39057.200000\n",
      "Rodriguez High School    169824.200000\n",
      "Shelton High School       70440.000000\n",
      "Thomas High School        69542.000000\n",
      "Wilson High School        87971.600000\n",
      "Wright High School        69960.000000\n",
      "Name: budget, dtype: float64\n"
     ]
    }
   ],
   "source": [
    "# Calculate the total school budget per school:\n",
    "school_budget = school_data_complete.groupby([\"school_name\"])[\"budget\"].mean()\n",
    "\n",
    "# Calculate the per capita spending per school:\n",
    "school_capita = school_budget / school_count\n",
    "student_capita = school_capita / student_count\n",
    "\n",
    "print(school_capita)"
   ]
  },
  {
   "cell_type": "code",
   "execution_count": 16,
   "metadata": {},
   "outputs": [],
   "source": [
    "# Calculate Avg test scores\n",
    "school_math = school_data_complete.groupby([\"school_name\"])[\"math_score\"].mean()\n",
    "school_reading = school_data_complete.groupby([\"school_name\"])[\"reading_score\"].mean()"
   ]
  },
  {
   "cell_type": "code",
   "execution_count": 17,
   "metadata": {},
   "outputs": [
    {
     "name": "stdout",
     "output_type": "stream",
     "text": [
      "school_name\n",
      "Bailey High School       3318\n",
      "Cabrera High School      1749\n",
      "Figueroa High School     1946\n",
      "Ford High School         1871\n",
      "Griffin High School      1371\n",
      "Hernandez High School    3094\n",
      "Holden High School        395\n",
      "Huang High School        1916\n",
      "Johnson High School      3145\n",
      "Pena High School          910\n",
      "Rodriguez High School    2654\n",
      "Shelton High School      1653\n",
      "Thomas High School       1525\n",
      "Wilson High School       2143\n",
      "Wright High School       1680\n",
      "Name: student_name, dtype: int64\n"
     ]
    }
   ],
   "source": [
    "# Calculate the number of students per school with math scores of 70 or higher from school_data_complete\n",
    "school_students_passing_math = school_data_complete[school_data_complete['math_score'] >= 70].groupby('school_name')['student_name'].count()\n",
    "print(school_students_passing_math)"
   ]
  },
  {
   "cell_type": "code",
   "execution_count": 18,
   "metadata": {},
   "outputs": [
    {
     "name": "stdout",
     "output_type": "stream",
     "text": [
      "school_name\n",
      "Bailey High School       4077\n",
      "Cabrera High School      1803\n",
      "Figueroa High School     2381\n",
      "Ford High School         2172\n",
      "Griffin High School      1426\n",
      "Hernandez High School    3748\n",
      "Holden High School        411\n",
      "Huang High School        2372\n",
      "Johnson High School      3867\n",
      "Pena High School          923\n",
      "Rodriguez High School    3208\n",
      "Shelton High School      1688\n",
      "Thomas High School       1591\n",
      "Wilson High School       2204\n",
      "Wright High School       1739\n",
      "Name: student_name, dtype: int64\n"
     ]
    }
   ],
   "source": [
    "# Calculate the number of students per school with reading scores of 70 or higher from school_data_complete\n",
    "school_students_passing_reading = school_data_complete[school_data_complete['reading_score'] >= 70].groupby('school_name')['student_name'].count()\n",
    "print(school_students_passing_reading)"
   ]
  },
  {
   "cell_type": "code",
   "execution_count": 19,
   "metadata": {},
   "outputs": [
    {
     "name": "stdout",
     "output_type": "stream",
     "text": [
      "school_name\n",
      "Bailey High School       2719\n",
      "Cabrera High School      1697\n",
      "Figueroa High School     1569\n",
      "Ford High School         1487\n",
      "Griffin High School      1330\n",
      "Hernandez High School    2481\n",
      "Holden High School        381\n",
      "Huang High School        1561\n",
      "Johnson High School      2549\n",
      "Pena High School          871\n",
      "Rodriguez High School    2119\n",
      "Shelton High School      1583\n",
      "Thomas High School       1487\n",
      "Wilson High School       2068\n",
      "Wright High School       1626\n",
      "dtype: int64\n"
     ]
    }
   ],
   "source": [
    "# Use the provided code to calculate the number of students per school that passed both math and reading with scores of 70 or higher\n",
    "#school_students_passing_math_and_reading = school_students_passing_reading + school_students_passing_math\n",
    "\n",
    "#school_students_passing_math_and_reading = school_students_passing_math_and_reading.groupby([\"school_name\"]).size()\n",
    "#calculate the number of students per school that passed both math and reading with scores of 70 or higher\n",
    "school_students_passing_math_and_reading = school_data_complete[(school_data_complete[\"reading_score\"] >= 70) & (school_data_complete[\"math_score\"] >= 70)]\n",
    "school_students_passing_math_and_reading\n",
    "overall_passing_rate = school_students_passing_math_and_reading.groupby([\"school_name\"]).size()\n",
    "overall_passing_rate\n",
    "\n",
    "print(overall_passing_rate)"
   ]
  },
  {
   "cell_type": "code",
   "execution_count": 20,
   "metadata": {},
   "outputs": [
    {
     "name": "stdout",
     "output_type": "stream",
     "text": [
      "school_name\n",
      "Bailey High School      6.666667\n",
      "Cabrera High School     6.666667\n",
      "Figueroa High School    6.666667\n",
      "Name: student_name, dtype: float64\n",
      "school_name\n",
      "Bailey High School      6.666667\n",
      "Cabrera High School     6.666667\n",
      "Figueroa High School    6.666667\n",
      "Name: student_name, dtype: float64\n",
      "                        Student ID  student_name        gender         grade  \\\n",
      "school_name                                                                    \n",
      "Bailey High School    18126.666667  18126.666667  18126.666667  18126.666667   \n",
      "Cabrera High School   11313.333333  11313.333333  11313.333333  11313.333333   \n",
      "Figueroa High School  10460.000000  10460.000000  10460.000000  10460.000000   \n",
      "\n",
      "                      reading_score    math_score     School ID          type  \\\n",
      "school_name                                                                     \n",
      "Bailey High School     18126.666667  18126.666667  18126.666667  18126.666667   \n",
      "Cabrera High School    11313.333333  11313.333333  11313.333333  11313.333333   \n",
      "Figueroa High School   10460.000000  10460.000000  10460.000000  10460.000000   \n",
      "\n",
      "                              size        budget  \n",
      "school_name                                       \n",
      "Bailey High School    18126.666667  18126.666667  \n",
      "Cabrera High School   11313.333333  11313.333333  \n",
      "Figueroa High School  10460.000000  10460.000000  \n"
     ]
    }
   ],
   "source": [
    "# Use the provided code to calculate the passing rates\n",
    "#school_passing_math = school_students_passing_math / school_counts * 100\n",
    "#school_passing_reading = school_students_passing_reading / school_counts * 100\n",
    "#overall_passing_rate = school_students_passing_math_and_reading / student_count * 100\n",
    "\n",
    "\n",
    "# Calculate the passing rates\n",
    "percentage_passing_math = school_students_passing_math.groupby([\"school_name\"]).count() / school_count * 100\n",
    "print(percentage_passing_math.head(3))\n",
    "percentage_passing_reading = school_students_passing_reading.groupby([\"school_name\"]).count() / school_count * 100\n",
    "print(percentage_passing_reading.head(3))\n",
    "overall_passing_rate = school_students_passing_math_and_reading.groupby([\"school_name\"]).count() / school_count * 100\n",
    "print(overall_passing_rate.head(3))"
   ]
  },
  {
   "cell_type": "code",
   "execution_count": 21,
   "metadata": {},
   "outputs": [],
   "source": [
    "import pandas as pd"
   ]
  },
  {
   "cell_type": "code",
   "execution_count": 22,
   "metadata": {},
   "outputs": [],
   "source": [
    "from numpy.ma import mrecords"
   ]
  },
  {
   "cell_type": "code",
   "execution_count": 23,
   "metadata": {},
   "outputs": [
    {
     "data": {
      "text/plain": [
       "Index(['Student ID', 'student_name', 'gender', 'grade', 'school_name',\n",
       "       'reading_score', 'math_score', 'School ID', 'type', 'size', 'budget'],\n",
       "      dtype='object')"
      ]
     },
     "execution_count": 23,
     "metadata": {},
     "output_type": "execute_result"
    }
   ],
   "source": [
    "school_data_complete.columns"
   ]
  },
  {
   "cell_type": "code",
   "execution_count": null,
   "metadata": {},
   "outputs": [],
   "source": [
    "# Calculate the per student budget\n",
    "school_data_complete[\"Per Student Budget\"] = school_data_complete[\"budget\"] / school_data_complete[\"size\"]\n",
    "\n",
    "# Group by school_name\n",
    "school_group = school_data_complete.groupby(\"school_name\")\n",
    "\n",
    "# Reset the index of the school_group DataFrame after groupby\n",
    "school_group = school_data_complete.reset_index()\n",
    "\n",
    "# Calculate mean passing rates\n",
    "mean_passing_math = round((passing_math_count / student_count) * 100, 2)\n",
    "mean_passing_reading = round((passing_reading_count / student_count) * 100, 2)\n",
    "\n",
    "# Create DataFrames for mean passing rates\n",
    "mean_passing_math_df = pd.DataFrame({\"school_name\": school_group[\"school_name\"], \"mean_passing_math\": mean_passing_math})\n",
    "mean_passing_reading_df = pd.DataFrame({\"school_name\": school_group[\"school_name\"], \"mean_passing_reading\": mean_passing_reading})\n",
    "\n",
    "# Merge the mean passing rates back into the original DataFrame\n",
    "school_group = pd.merge(school_group, mean_passing_math_df, on=\"school_name\")\n",
    "school_group = pd.merge(school_group, mean_passing_reading_df, on=\"school_name\")"
   ]
  },
  {
   "cell_type": "code",
   "execution_count": null,
   "metadata": {},
   "outputs": [],
   "source": [
    "# Rename the columns\n",
    "school_group.rename(columns={\"Math_Pass\": \"% Passing Math\", \"Reading_Pass\": \"% Passing Reading\"}, inplace=True)\n",
    "\n",
    "# Calculate the overall passing rate\n",
    "percentage_overall_passing_rate = round((percentage_passing_math + percentage_passing_reading) / 2, 2)\n",
    "\n",
    "print(school_group)"
   ]
  },
  {
   "cell_type": "code",
   "execution_count": null,
   "metadata": {},
   "outputs": [],
   "source": [
    "# Merge with school_data to collect information about the type, size, and budget\n",
    "school_data_summary = pd.merge(school_group, school_data, how=\"left\", on=\"school_name\")\n",
    "\n",
    "# Check the columns before deleting\n",
    "print(school_data_summary.columns)"
   ]
  },
  {
   "cell_type": "code",
   "execution_count": null,
   "metadata": {},
   "outputs": [],
   "source": [
    "# Delete unnecessary columns\n",
    "del school_data_summary['size_y']\n",
    "del school_data_summary['budget_y']\n",
    "del school_data_summary['Student ID']\n",
    "del school_data_summary['School ID_x']"
   ]
  },
  {
   "cell_type": "code",
   "execution_count": null,
   "metadata": {},
   "outputs": [],
   "source": [
    "#Create a dataframe to store the results\n",
    "school_summary = pd.DataFrame({\"School Type\": school_data_summary[\"type\"],\n",
    "                               \"Total Students\":school_data_summary[\"size_x\"],\n",
    "                               \"Total School Budget\": school_data_summary[\"budget_x\"],\n",
    "                               \"Per Student Budget\":school_data_summary[\"Per Student Budget\"], \n",
    "                               \"Average Math Score\":round(school_data_summary[\"math_score\"],2),\n",
    "                               \"Average Reading Score\":round(school_data_summary[\"reading_score\"],2), \n",
    "                               \"% Passing Math\": school_data_summary[\"% Passing Math\"],\n",
    "                               \"% Passing Reading\": school_data_summary[\"% Passing Reading\"],\n",
    "                               \"% Overall Passing Rate\": school_data_summary[\"% Overall Passing Rate\"]}) "
   ]
  },
  {
   "cell_type": "code",
   "execution_count": null,
   "metadata": {},
   "outputs": [],
   "source": [
    "#Formatting\n",
    "school_summary[\"Total Students\"] = school_summary[\"Total Students\"].map(\"{:,.0f}\".format)\n",
    "school_summary[\"Total School Budget\"] = school_summary[\"Total School Budget\"].map(\"${:,.2f}\".format)\n",
    "school_summary[\"Per Student Budget\"] = school_summary[\"Per Student Budget\"].map(\"${:,.2f}\".format)\n",
    "#Display\n",
    "school_summary"
   ]
  },
  {
   "cell_type": "markdown",
   "metadata": {},
   "source": [
    "## Highest-Performing Schools (by % Overall Passing)"
   ]
  },
  {
   "cell_type": "code",
   "execution_count": null,
   "metadata": {
    "scrolled": true
   },
   "outputs": [],
   "source": [
    "# Sort the schools by `% Overall Passing` in descending order and display the top 5 rows.\n",
    "top_schools = school_summary.sort_values([\"% Overall Passing\"],ascending = False)\n",
    "top_schools.head(5)"
   ]
  },
  {
   "cell_type": "markdown",
   "metadata": {},
   "source": [
    "## Bottom Performing Schools (By % Overall Passing)"
   ]
  },
  {
   "cell_type": "code",
   "execution_count": null,
   "metadata": {},
   "outputs": [],
   "source": [
    "# Sort the schools by `% Overall Passing` in ascending order and display the top 5 rows.\n",
    "bottom_schools =school_summary.sort_values([\"% Overall Passing\"],ascending = True)\n",
    "bottom_schools.head(5)\n",
    "school_math = school_data_complete.groupby([\"school_name\"])[\"math_score\"].mean()\n",
    "school_reading = school_data_complete.groupby([\"school_name\"])[\"reading_score\"].mean()"
   ]
  },
  {
   "cell_type": "markdown",
   "metadata": {},
   "source": [
    "## Math Scores by Grade"
   ]
  },
  {
   "cell_type": "code",
   "execution_count": null,
   "metadata": {},
   "outputs": [],
   "source": [
    "# Use the code provided to separate the data by grade\n",
    "ninth_graders = school_data_complete[(school_data_complete[\"grade\"] == \"9th\")]\n",
    "tenth_graders = school_data_complete[(school_data_complete[\"grade\"] == \"10th\")]\n",
    "eleventh_graders = school_data_complete[(school_data_complete[\"grade\"] == \"11th\")]\n",
    "twelfth_graders = school_data_complete[(school_data_complete[\"grade\"] == \"12th\")]\n",
    "\n",
    "# Group by \"school_name\" and take the mean of math scores for each grade\n",
    "    # Note: There is no overall scores so selecting math scores directly for calculation\n",
    "ninth_graders_math_scores = ninth_graders.groupby([\"school_name\"]).mean()[\"math_score\"]\n",
    "tenth_graders_math_scores = tenth_graders.groupby([\"school_name\"]).mean()[\"math_score\"]\n",
    "eleventh_graders_math_scores = eleventh_graders.groupby([\"school_name\"]).mean()[\"math_score\"]\n",
    "twelfth_graders_math_scores = twelfth_graders.groupby([\"school_name\"]).mean()[\"math_score\"]\n",
    "\n",
    "# Combine each of the scores above into single DataFrame called `math_scores_by_grade`\n",
    "math_scores_by_grade = pd.DataFrame ({\"9th\" : ninth_graders_math_scores, \n",
    "                                      \"10th\" : tenth_graders_math_scores,\n",
    "                                      \"11th\" : eleventh_graders_math_scores,\n",
    "                                      \"12th\" : twelfth_graders_math_scores})\n",
    "\n",
    "# Minor data wrangling\n",
    "math_scores_by_grade.index.name = None\n",
    "\n",
    "# Display the DataFrame\n",
    "math_scores_by_grade\n"
   ]
  },
  {
   "cell_type": "markdown",
   "metadata": {},
   "source": [
    "## Reading Score by Grade "
   ]
  },
  {
   "cell_type": "code",
   "execution_count": null,
   "metadata": {},
   "outputs": [],
   "source": [
    "# Use the code provided to separate the data by grade\n",
    "ninth_graders = school_data_complete[(school_data_complete[\"grade\"] == \"9th\")]\n",
    "tenth_graders = school_data_complete[(school_data_complete[\"grade\"] == \"10th\")]\n",
    "eleventh_graders = school_data_complete[(school_data_complete[\"grade\"] == \"11th\")]\n",
    "twelfth_graders = school_data_complete[(school_data_complete[\"grade\"] == \"12th\")]\n",
    "\n",
    "# Group by \"school_name\" and take the mean of reading scores for each grade\n",
    "    # Note: There is no overall scores so selecting reading scores directly for calculation\n",
    "#ninth_graders_reading_scores = ninth_graders.groupby([\"school_name\"]).mean()[\"reading_score\"]\n",
    "#tenth_graders_reading_scores = tenth_graders.groupby([\"school_name\"]).mean()[\"reading_score\"]\n",
    "#eleventh_graders_reading_scores = eleventh_graders.groupby([\"school_name\"]).mean()[\"reading_score\"]\n",
    "#twelfth_graders_reading_scores = twelfth_graders.groupby([\"school_name\"]).mean()[\"reading_score\"]\n",
    "\n",
    "# Combine each of the scores above into single DataFrame called `reading_scores_by_grade`\n",
    "reading_scores_by_grade = pd.DataFrame ({\"9th\" : ninth_graders_reading_scores, \n",
    "                                      \"10th\" : tenth_graders_reading_scores,\n",
    "                                      \"11th\" : eleventh_graders_reading_scores,\n",
    "                                      \"12th\" : twelfth_graders_reading_scores})\n",
    "\n",
    "# Minor data wrangling\n",
    "reading_scores_by_grade = reading_scores_by_grade[[\"9th\", \"10th\", \"11th\", \"12th\"]]\n",
    "reading_scores_by_grade.index.name = None\n",
    "\n",
    "# Display the DataFrame\n",
    "reading_scores_by_grade\n"
   ]
  },
  {
   "cell_type": "markdown",
   "metadata": {},
   "source": [
    "## Scores by School Spending"
   ]
  },
  {
   "cell_type": "code",
   "execution_count": null,
   "metadata": {},
   "outputs": [],
   "source": [
    "# Establish the bins\n",
    "spending_bins = [0, 585, 630, 645, 680]\n",
    "labels = [\"<$585\", \"$585-630\", \"$630-645\", \"$645-680\"]\n"
   ]
  },
  {
   "cell_type": "code",
   "execution_count": null,
   "metadata": {},
   "outputs": [],
   "source": [
    "# Create a copy of the school summary since it has the \"Per Student Budget\"\n",
    "school_spending_df = per_school_summary.copy()\n"
   ]
  },
  {
   "cell_type": "code",
   "execution_count": null,
   "metadata": {},
   "outputs": [],
   "source": [
    "# Use `pd.cut` to categorize spending based on the bins.\n",
    "school_spending_df[\"Spending Ranges (Per Student)\"] = pd.cut(school_spending_df[\"Per Student Budget\"], \n",
    "                                                                                spending_bins, labels=spending_labels)\n",
    "school_spending_df.head(3)"
   ]
  },
  {
   "cell_type": "code",
   "execution_count": null,
   "metadata": {},
   "outputs": [],
   "source": [
    "#  Calculate averages for the desired columns.\n",
    "spending_math_scores = school_spending_df.groupby([\"Spending Ranges (Per Student)\"])[\"Average Math Score\"].mean()\n",
    "spending_reading_scores = school_spending_df.groupby([\"Spending Ranges (Per Student)\"])[\"Average Reading Score\"].mean()\n",
    "spending_passing_math = school_spending_df.groupby([\"Spending Ranges (Per Student)\"])[\"% Passing Math\"].mean()\n",
    "spending_passing_reading = school_spending_df.groupby([\"Spending Ranges (Per Student)\"])[\"% Passing Reading\"].mean()\n",
    "overall_passing_spending = school_spending_df.groupby([\"Spending Ranges (Per Student)\"])[\"% Overall Passing\"].mean()\n"
   ]
  },
  {
   "cell_type": "code",
   "execution_count": null,
   "metadata": {},
   "outputs": [],
   "source": [
    "# Assemble into DataFrame using the binned and average spending data\n",
    "spending_summary = reading_scores_by_grade = pd.DataFrame ({\"Average Math Score\" : spending_math_scores, \n",
    "                                                            \"Average Reading Score\" : spending_reading_scores,\n",
    "                                                            \"% Passing Math\" : spending_passing_math,\n",
    "                                                            \"% Passing Reading\" : spending_passing_reading,\n",
    "                                                            \"% Overall Passing\" : overall_passing_spending})\n",
    "\n",
    "# Display results\n",
    "spending_summary\n"
   ]
  },
  {
   "cell_type": "markdown",
   "metadata": {},
   "source": [
    "## Scores by School Size"
   ]
  },
  {
   "cell_type": "code",
   "execution_count": null,
   "metadata": {},
   "outputs": [],
   "source": [
    "# Establish the bins.\n",
    "size_bins = [0, 1000, 2000, 5000]\n",
    "labels = [\"Small (<1000)\", \"Medium (1000-2000)\", \"Large (2000-5000)\"]\n"
   ]
  },
  {
   "cell_type": "code",
   "execution_count": null,
   "metadata": {},
   "outputs": [],
   "source": [
    "# Categorize the spending based on the bins\n",
    "# Use `pd.cut` on the \"Total Students\" column of the `per_school_summary` DataFrame\n",
    "school_size_df[\"School Size\"] = pd.cut(school_size_df[\"Total Students\"], size_bins, labels=size_labels)\n",
    "school_size_df.head(3)"
   ]
  },
  {
   "cell_type": "code",
   "execution_count": null,
   "metadata": {},
   "outputs": [],
   "source": [
    "# Calculate averages for the desired columns.\n",
    "size_math_scores = per_school_summary.groupby([\"School Size\"])[\"Average Math Score\"].mean()\n",
    "size_reading_scores = per_school_summary.groupby([\"School Size\"])[\"Average Reading Score\"].mean()\n",
    "size_passing_math = per_school_summary.groupby([\"School Size\"])[\"% Passing Math\"].mean()\n",
    "size_passing_reading = per_school_summary.groupby([\"School Size\"])[\"% Passing Reading\"].mean()\n",
    "size_overall_passing = per_school_summary.groupby([\"School Size\"])[\"% Overall Passing\"].mean()\n"
   ]
  },
  {
   "cell_type": "code",
   "execution_count": null,
   "metadata": {
    "scrolled": true
   },
   "outputs": [],
   "source": [
    "# Create a DataFrame using the binned and averaged size data\n",
    "size_summary = pd.DataFrame ({\"Average Math Score\" : size_math_scores, \n",
    "                              \"Average Reading Score\" : size_reading_scores,\n",
    "                              \"% Passing Math\" : size_passing_math,\n",
    "                              \"% Passing Reading\" : size_passing_reading,\n",
    "                              \"% Overall Passing\" : size_overall_passing})\n",
    "\n",
    "# Display results\n",
    "size_summary"
   ]
  },
  {
   "cell_type": "markdown",
   "metadata": {},
   "source": [
    "## Scores by School Type"
   ]
  },
  {
   "cell_type": "code",
   "execution_count": null,
   "metadata": {},
   "outputs": [],
   "source": [
    "# Group the per_school_summary DataFrame by \"School Type\" and average the results.\n",
    "average_math_score_by_type = per_school_summary.groupby([\"School Type\"])[\"Average Math Score\"].mean()\n",
    "average_reading_score_by_type = per_school_summary.groupby([\"School Type\"])[\"Average Reading Score\"].mean()\n",
    "average_percent_passing_math_by_type = per_school_summary.groupby([\"School Type\"])[\"% Passing Math\"].mean()\n",
    "average_percent_passing_reading_by_type = per_school_summary.groupby([\"School Type\"])[\"% Passing Reading\"].mean()\n",
    "average_percent_overall_passing_by_type = per_school_summary.groupby([\"School Type\"])[\"% Overall Passing\"].mean()\n"
   ]
  },
  {
   "cell_type": "code",
   "execution_count": null,
   "metadata": {},
   "outputs": [],
   "source": [
    "# Assemble the new data by type into a DataFrame called `type_summary` using the new column data\n",
    "type_summary = pd.DataFrame ({\"Average Math Score\" : average_math_score_by_type, \n",
    "                              \"Average Reading Score\" : average_reading_score_by_type,\n",
    "                              \"% Passing Math\" : average_percent_passing_math_by_type,\n",
    "                              \"% Passing Reading\" : average_percent_passing_reading_by_type,\n",
    "                              \"% Overall Passing\" : average_percent_overall_passing_by_type})\n",
    "\n",
    "# Display results\n",
    "type_summary"
   ]
  },
  {
   "cell_type": "code",
   "execution_count": null,
   "metadata": {},
   "outputs": [],
   "source": []
  }
 ],
 "metadata": {
  "anaconda-cloud": {},
  "kernel_info": {
   "name": "python3"
  },
  "kernelspec": {
   "display_name": "Python 3 (ipykernel)",
   "language": "python",
   "name": "python3"
  },
  "language_info": {
   "codemirror_mode": {
    "name": "ipython",
    "version": 3
   },
   "file_extension": ".py",
   "mimetype": "text/x-python",
   "name": "python",
   "nbconvert_exporter": "python",
   "pygments_lexer": "ipython3",
   "version": "3.10.14"
  },
  "latex_envs": {
   "LaTeX_envs_menu_present": true,
   "autoclose": false,
   "autocomplete": true,
   "bibliofile": "biblio.bib",
   "cite_by": "apalike",
   "current_citInitial": 1,
   "eqLabelWithNumbers": true,
   "eqNumInitial": 1,
   "hotkeys": {
    "equation": "Ctrl-E",
    "itemize": "Ctrl-I"
   },
   "labels_anchors": false,
   "latex_user_defs": false,
   "report_style_numbering": false,
   "user_envs_cfg": false
  },
  "nteract": {
   "version": "0.8.4"
  },
  "vscode": {
   "interpreter": {
    "hash": "5384d77d82de63fd599f73e77f9ec786e7719288bf80a29ec0288c670ac3cf32"
   }
  }
 },
 "nbformat": 4,
 "nbformat_minor": 4
}
