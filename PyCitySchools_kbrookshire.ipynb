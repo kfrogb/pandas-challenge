{
 "cells": [
  {
   "attachments": {},
   "cell_type": "markdown",
   "metadata": {},
   "source": [
    "# PyCity Schools Analysis\n",
    "\n",
    "- Your analysis here\n",
    "  \n",
    "---"
   ]
  },
  {
   "cell_type": "code",
   "execution_count": 1,
   "metadata": {},
   "outputs": [
    {
     "data": {
      "text/html": [
       "<div>\n",
       "<style scoped>\n",
       "    .dataframe tbody tr th:only-of-type {\n",
       "        vertical-align: middle;\n",
       "    }\n",
       "\n",
       "    .dataframe tbody tr th {\n",
       "        vertical-align: top;\n",
       "    }\n",
       "\n",
       "    .dataframe thead th {\n",
       "        text-align: right;\n",
       "    }\n",
       "</style>\n",
       "<table border=\"1\" class=\"dataframe\">\n",
       "  <thead>\n",
       "    <tr style=\"text-align: right;\">\n",
       "      <th></th>\n",
       "      <th>Student ID</th>\n",
       "      <th>student_name</th>\n",
       "      <th>gender</th>\n",
       "      <th>grade</th>\n",
       "      <th>school_name</th>\n",
       "      <th>reading_score</th>\n",
       "      <th>math_score</th>\n",
       "      <th>School ID</th>\n",
       "      <th>type</th>\n",
       "      <th>size</th>\n",
       "      <th>budget</th>\n",
       "    </tr>\n",
       "  </thead>\n",
       "  <tbody>\n",
       "    <tr>\n",
       "      <th>0</th>\n",
       "      <td>0</td>\n",
       "      <td>Paul Bradley</td>\n",
       "      <td>M</td>\n",
       "      <td>9th</td>\n",
       "      <td>Huang High School</td>\n",
       "      <td>66</td>\n",
       "      <td>79</td>\n",
       "      <td>0</td>\n",
       "      <td>District</td>\n",
       "      <td>2917</td>\n",
       "      <td>1910635</td>\n",
       "    </tr>\n",
       "    <tr>\n",
       "      <th>1</th>\n",
       "      <td>1</td>\n",
       "      <td>Victor Smith</td>\n",
       "      <td>M</td>\n",
       "      <td>12th</td>\n",
       "      <td>Huang High School</td>\n",
       "      <td>94</td>\n",
       "      <td>61</td>\n",
       "      <td>0</td>\n",
       "      <td>District</td>\n",
       "      <td>2917</td>\n",
       "      <td>1910635</td>\n",
       "    </tr>\n",
       "    <tr>\n",
       "      <th>2</th>\n",
       "      <td>2</td>\n",
       "      <td>Kevin Rodriguez</td>\n",
       "      <td>M</td>\n",
       "      <td>12th</td>\n",
       "      <td>Huang High School</td>\n",
       "      <td>90</td>\n",
       "      <td>60</td>\n",
       "      <td>0</td>\n",
       "      <td>District</td>\n",
       "      <td>2917</td>\n",
       "      <td>1910635</td>\n",
       "    </tr>\n",
       "    <tr>\n",
       "      <th>3</th>\n",
       "      <td>3</td>\n",
       "      <td>Dr. Richard Scott</td>\n",
       "      <td>M</td>\n",
       "      <td>12th</td>\n",
       "      <td>Huang High School</td>\n",
       "      <td>67</td>\n",
       "      <td>58</td>\n",
       "      <td>0</td>\n",
       "      <td>District</td>\n",
       "      <td>2917</td>\n",
       "      <td>1910635</td>\n",
       "    </tr>\n",
       "    <tr>\n",
       "      <th>4</th>\n",
       "      <td>4</td>\n",
       "      <td>Bonnie Ray</td>\n",
       "      <td>F</td>\n",
       "      <td>9th</td>\n",
       "      <td>Huang High School</td>\n",
       "      <td>97</td>\n",
       "      <td>84</td>\n",
       "      <td>0</td>\n",
       "      <td>District</td>\n",
       "      <td>2917</td>\n",
       "      <td>1910635</td>\n",
       "    </tr>\n",
       "  </tbody>\n",
       "</table>\n",
       "</div>"
      ],
      "text/plain": [
       "   Student ID       student_name gender grade        school_name  \\\n",
       "0           0       Paul Bradley      M   9th  Huang High School   \n",
       "1           1       Victor Smith      M  12th  Huang High School   \n",
       "2           2    Kevin Rodriguez      M  12th  Huang High School   \n",
       "3           3  Dr. Richard Scott      M  12th  Huang High School   \n",
       "4           4         Bonnie Ray      F   9th  Huang High School   \n",
       "\n",
       "   reading_score  math_score  School ID      type  size   budget  \n",
       "0             66          79          0  District  2917  1910635  \n",
       "1             94          61          0  District  2917  1910635  \n",
       "2             90          60          0  District  2917  1910635  \n",
       "3             67          58          0  District  2917  1910635  \n",
       "4             97          84          0  District  2917  1910635  "
      ]
     },
     "execution_count": 1,
     "metadata": {},
     "output_type": "execute_result"
    }
   ],
   "source": [
    "# Dependencies and Setup\n",
    "import pandas as pd\n",
    "from pathlib import Path\n",
    "import numpy as np\n",
    "\n",
    "# File to Load (Remember to Change These)\n",
    "school_data_to_load = Path(\"PyCitySchools/Resources/schools_complete.csv\")\n",
    "student_data_to_load = Path(\"PyCitySchools/Resources/students_complete.csv\")\n",
    "\n",
    "# Read School and Student Data File and store into Pandas DataFrames\n",
    "school_data = pd.read_csv(school_data_to_load)\n",
    "student_data = pd.read_csv(student_data_to_load)\n",
    "\n",
    "# Combine the data into a single dataset.\n",
    "school_data_complete = pd.merge(student_data, school_data, how=\"left\", on=[\"school_name\", \"school_name\"])\n",
    "school_data_complete.head()\n"
   ]
  },
  {
   "cell_type": "code",
   "execution_count": 2,
   "metadata": {},
   "outputs": [
    {
     "data": {
      "text/plain": [
       "Index(['Student ID', 'student_name', 'gender', 'grade', 'school_name',\n",
       "       'reading_score', 'math_score', 'School ID', 'type', 'size', 'budget'],\n",
       "      dtype='object')"
      ]
     },
     "execution_count": 2,
     "metadata": {},
     "output_type": "execute_result"
    }
   ],
   "source": [
    "school_data_complete.columns"
   ]
  },
  {
   "cell_type": "markdown",
   "metadata": {},
   "source": [
    "## District Summary"
   ]
  },
  {
   "cell_type": "code",
   "execution_count": 3,
   "metadata": {},
   "outputs": [
    {
     "name": "stdout",
     "output_type": "stream",
     "text": [
      "15\n"
     ]
    }
   ],
   "source": [
    "# Calculate the total number of unique schools\n",
    "school_counts = school_data_complete['school_name'].nunique()\n",
    "print(school_counts)"
   ]
  },
  {
   "cell_type": "code",
   "execution_count": 4,
   "metadata": {},
   "outputs": [
    {
     "name": "stdout",
     "output_type": "stream",
     "text": [
      "39170\n"
     ]
    }
   ],
   "source": [
    "# Calculate the total number of students\n",
    "student_count = school_data['size'].sum()\n",
    "print(student_count)"
   ]
  },
  {
   "cell_type": "code",
   "execution_count": 5,
   "metadata": {},
   "outputs": [
    {
     "name": "stdout",
     "output_type": "stream",
     "text": [
      "24649428\n"
     ]
    }
   ],
   "source": [
    "# Calculate the total budget\n",
    "total_budget = school_data['budget'].sum()\n",
    "print(total_budget)"
   ]
  },
  {
   "cell_type": "code",
   "execution_count": 6,
   "metadata": {},
   "outputs": [
    {
     "data": {
      "text/plain": [
       "78.98537145774827"
      ]
     },
     "execution_count": 6,
     "metadata": {},
     "output_type": "execute_result"
    }
   ],
   "source": [
    "# Calculate the average (mean) math score\n",
    "average_math_score = school_data_complete[\"math_score\"].mean()\n",
    "average_math_score"
   ]
  },
  {
   "cell_type": "code",
   "execution_count": 7,
   "metadata": {},
   "outputs": [
    {
     "data": {
      "text/plain": [
       "81.87784018381414"
      ]
     },
     "execution_count": 7,
     "metadata": {},
     "output_type": "execute_result"
    }
   ],
   "source": [
    "# Calculate the average (mean) reading score\n",
    "average_reading_score = school_data_complete[\"reading_score\"].mean()\n",
    "average_reading_score"
   ]
  },
  {
   "cell_type": "code",
   "execution_count": 8,
   "metadata": {},
   "outputs": [
    {
     "name": "stdout",
     "output_type": "stream",
     "text": [
      "2\n"
     ]
    }
   ],
   "source": [
    "# Calculate the total number of unique types\n",
    "type = school_data_complete['type'].nunique()\n",
    "print(type)"
   ]
  },
  {
   "cell_type": "code",
   "execution_count": 9,
   "metadata": {},
   "outputs": [
    {
     "name": "stdout",
     "output_type": "stream",
     "text": [
      "29370\n"
     ]
    }
   ],
   "source": [
    "# Use the following to calculate the percentage of students who passed math (math scores greather than or equal to 70)\n",
    "passing_math_count = school_data_complete[(school_data_complete[\"math_score\"] >= 70)].count()[\"student_name\"]\n",
    "passing_math_percentage = passing_math_count / float(student_count) * 100\n",
    "passing_math_percentage\n",
    "print(passing_math_count)"
   ]
  },
  {
   "cell_type": "code",
   "execution_count": 10,
   "metadata": {},
   "outputs": [
    {
     "name": "stdout",
     "output_type": "stream",
     "text": [
      "33610\n"
     ]
    }
   ],
   "source": [
    "# Calculate the percentage of students who passed reading (hint: look at how the math percentage was calculated)\n",
    "passing_reading_count = school_data_complete[(school_data_complete[\"reading_score\"] >= 70)].count()[\"student_name\"]\n",
    "passing_reading_percentage = passing_reading_count / float(student_count) * 100\n",
    "print (passing_reading_count)"
   ]
  },
  {
   "cell_type": "code",
   "execution_count": 11,
   "metadata": {},
   "outputs": [
    {
     "data": {
      "text/plain": [
       "65.17232575950983"
      ]
     },
     "execution_count": 11,
     "metadata": {},
     "output_type": "execute_result"
    }
   ],
   "source": [
    "# Use the following to calculate the percentage of students that passed math and reading\n",
    "passing_math_reading_count = school_data_complete[\n",
    "    (school_data_complete[\"math_score\"] >= 70) & (school_data_complete[\"reading_score\"] >= 70)\n",
    "].count()[\"student_name\"]\n",
    "overall_passing_rate = passing_math_reading_count /  float(student_count) * 100\n",
    "overall_passing_rate"
   ]
  },
  {
   "cell_type": "code",
   "execution_count": 12,
   "metadata": {},
   "outputs": [
    {
     "data": {
      "text/html": [
       "<div>\n",
       "<style scoped>\n",
       "    .dataframe tbody tr th:only-of-type {\n",
       "        vertical-align: middle;\n",
       "    }\n",
       "\n",
       "    .dataframe tbody tr th {\n",
       "        vertical-align: top;\n",
       "    }\n",
       "\n",
       "    .dataframe thead th {\n",
       "        text-align: right;\n",
       "    }\n",
       "</style>\n",
       "<table border=\"1\" class=\"dataframe\">\n",
       "  <thead>\n",
       "    <tr style=\"text-align: right;\">\n",
       "      <th></th>\n",
       "      <th>Total Schools</th>\n",
       "      <th>Total Students</th>\n",
       "      <th>Total Budget</th>\n",
       "      <th>Average Math Score</th>\n",
       "      <th>Average Reading Score</th>\n",
       "      <th>% Passing Math</th>\n",
       "      <th>% Passing Reading</th>\n",
       "      <th>% Overall Passing</th>\n",
       "    </tr>\n",
       "  </thead>\n",
       "  <tbody>\n",
       "    <tr>\n",
       "      <th>0</th>\n",
       "      <td>15</td>\n",
       "      <td>39,170</td>\n",
       "      <td>$24,649,428.00</td>\n",
       "      <td>78.985371</td>\n",
       "      <td>81.87784</td>\n",
       "      <td>74.980853</td>\n",
       "      <td>85.805463</td>\n",
       "      <td>65.172326</td>\n",
       "    </tr>\n",
       "  </tbody>\n",
       "</table>\n",
       "</div>"
      ],
      "text/plain": [
       "   Total Schools Total Students    Total Budget  Average Math Score  \\\n",
       "0             15         39,170  $24,649,428.00           78.985371   \n",
       "\n",
       "   Average Reading Score  % Passing Math  % Passing Reading  % Overall Passing  \n",
       "0               81.87784       74.980853          85.805463          65.172326  "
      ]
     },
     "execution_count": 12,
     "metadata": {},
     "output_type": "execute_result"
    }
   ],
   "source": [
    "# Create a high-level snapshot of the district's key metrics in a DataFrame\n",
    "district_summary = pd.DataFrame(\n",
    "          [{\"Total Schools\": school_counts, \n",
    "          \"Total Students\": student_count, \n",
    "          \"Total Budget\": total_budget,\n",
    "          \"Average Math Score\": average_math_score, \n",
    "          \"Average Reading Score\": average_reading_score,\n",
    "          \"% Passing Math\": passing_math_percentage,\n",
    "         \"% Passing Reading\": passing_reading_percentage,\n",
    "        \"% Overall Passing\": overall_passing_rate}])\n",
    "\n",
    "# Formatting\n",
    "district_summary[\"Total Students\"] = district_summary[\"Total Students\"].map(\"{:,}\".format)\n",
    "district_summary[\"Total Budget\"] = district_summary[\"Total Budget\"].map(\"${:,.2f}\".format)\n",
    "\n",
    "# Display the DataFrame\n",
    "district_summary"
   ]
  },
  {
   "cell_type": "markdown",
   "metadata": {},
   "source": [
    "## School Summary"
   ]
  },
  {
   "cell_type": "code",
   "execution_count": 13,
   "metadata": {},
   "outputs": [
    {
     "name": "stdout",
     "output_type": "stream",
     "text": [
      "school_name\n",
      "Huang High School     District\n",
      "Huang High School     District\n",
      "Huang High School     District\n",
      "Huang High School     District\n",
      "Huang High School     District\n",
      "                        ...   \n",
      "Thomas High School     Charter\n",
      "Thomas High School     Charter\n",
      "Thomas High School     Charter\n",
      "Thomas High School     Charter\n",
      "Thomas High School     Charter\n",
      "Name: type, Length: 39170, dtype: object\n"
     ]
    }
   ],
   "source": [
    "# Use the code provided to select the type per school from school_data\n",
    "unique_school_names = school_data_complete.set_index(['school_name'])['type']\n",
    "print(unique_school_names)"
   ]
  },
  {
   "cell_type": "code",
   "execution_count": 14,
   "metadata": {},
   "outputs": [
    {
     "name": "stdout",
     "output_type": "stream",
     "text": [
      "<bound method DataFrame.nunique of           Student ID       student_name gender grade         school_name  \\\n",
      "type                                                                       \n",
      "District           0       Paul Bradley      M   9th   Huang High School   \n",
      "District           1       Victor Smith      M  12th   Huang High School   \n",
      "District           2    Kevin Rodriguez      M  12th   Huang High School   \n",
      "District           3  Dr. Richard Scott      M  12th   Huang High School   \n",
      "District           4         Bonnie Ray      F   9th   Huang High School   \n",
      "...              ...                ...    ...   ...                 ...   \n",
      "Charter        39165       Donna Howard      F  12th  Thomas High School   \n",
      "Charter        39166          Dawn Bell      F  10th  Thomas High School   \n",
      "Charter        39167     Rebecca Tanner      F   9th  Thomas High School   \n",
      "Charter        39168       Desiree Kidd      F  10th  Thomas High School   \n",
      "Charter        39169    Carolyn Jackson      F  11th  Thomas High School   \n",
      "\n",
      "          reading_score  math_score  School ID  size   budget  \n",
      "type                                                           \n",
      "District             66          79          0  2917  1910635  \n",
      "District             94          61          0  2917  1910635  \n",
      "District             90          60          0  2917  1910635  \n",
      "District             67          58          0  2917  1910635  \n",
      "District             97          84          0  2917  1910635  \n",
      "...                 ...         ...        ...   ...      ...  \n",
      "Charter              99          90         14  1635  1043130  \n",
      "Charter              95          70         14  1635  1043130  \n",
      "Charter              73          84         14  1635  1043130  \n",
      "Charter              99          90         14  1635  1043130  \n",
      "Charter              95          75         14  1635  1043130  \n",
      "\n",
      "[39170 rows x 10 columns]>\n"
     ]
    }
   ],
   "source": [
    "# Calculate the total student count per school from school_data\n",
    "unique_school_types = school_data_complete.set_index([\"type\"]).nunique\n",
    "print (unique_school_types)"
   ]
  },
  {
   "cell_type": "code",
   "execution_count": 15,
   "metadata": {},
   "outputs": [
    {
     "name": "stdout",
     "output_type": "stream",
     "text": [
      "school_name\n",
      "Bailey High School       208328.533333\n",
      "Cabrera High School       72090.400000\n",
      "Figueroa High School     125627.400000\n",
      "Ford High School         117594.400000\n",
      "Griffin High School       61166.666667\n",
      "Hernandez High School    201468.000000\n",
      "Holden High School        16539.133333\n",
      "Huang High School        127375.666667\n",
      "Johnson High School      206310.000000\n",
      "Pena High School          39057.200000\n",
      "Rodriguez High School    169824.200000\n",
      "Shelton High School       70440.000000\n",
      "Thomas High School        69542.000000\n",
      "Wilson High School        87971.600000\n",
      "Wright High School        69960.000000\n",
      "Name: budget, dtype: float64\n"
     ]
    }
   ],
   "source": [
    "# Calculate the total school budget per school:\n",
    "school_budget = school_data_complete.groupby([\"school_name\"])[\"budget\"].mean()\n",
    "\n",
    "# Calculate the per capita spending per school:\n",
    "school_capita = school_budget / school_counts\n",
    "student_capita = school_capita / student_count\n",
    "\n",
    "print(school_capita)"
   ]
  },
  {
   "cell_type": "code",
   "execution_count": 16,
   "metadata": {},
   "outputs": [],
   "source": [
    "# Calculate Avg test scores\n",
    "school_math = school_data_complete.groupby([\"school_name\"])[\"math_score\"].mean()\n",
    "school_reading = school_data_complete.groupby([\"school_name\"])[\"reading_score\"].mean()"
   ]
  },
  {
   "cell_type": "code",
   "execution_count": 17,
   "metadata": {},
   "outputs": [
    {
     "name": "stdout",
     "output_type": "stream",
     "text": [
      "school_name\n",
      "Bailey High School       3318\n",
      "Cabrera High School      1749\n",
      "Figueroa High School     1946\n",
      "Ford High School         1871\n",
      "Griffin High School      1371\n",
      "Hernandez High School    3094\n",
      "Holden High School        395\n",
      "Huang High School        1916\n",
      "Johnson High School      3145\n",
      "Pena High School          910\n",
      "Rodriguez High School    2654\n",
      "Shelton High School      1653\n",
      "Thomas High School       1525\n",
      "Wilson High School       2143\n",
      "Wright High School       1680\n",
      "Name: student_name, dtype: int64\n"
     ]
    }
   ],
   "source": [
    "# Calculate the number of students per school with math scores of 70 or higher from school_data_complete\n",
    "school_students_passing_math = school_data_complete[school_data_complete['math_score'] >= 70].groupby('school_name')['student_name'].count()\n",
    "print(school_students_passing_math)"
   ]
  },
  {
   "cell_type": "code",
   "execution_count": 18,
   "metadata": {},
   "outputs": [
    {
     "name": "stdout",
     "output_type": "stream",
     "text": [
      "school_name\n",
      "Bailey High School       4077\n",
      "Cabrera High School      1803\n",
      "Figueroa High School     2381\n",
      "Ford High School         2172\n",
      "Griffin High School      1426\n",
      "Hernandez High School    3748\n",
      "Holden High School        411\n",
      "Huang High School        2372\n",
      "Johnson High School      3867\n",
      "Pena High School          923\n",
      "Rodriguez High School    3208\n",
      "Shelton High School      1688\n",
      "Thomas High School       1591\n",
      "Wilson High School       2204\n",
      "Wright High School       1739\n",
      "Name: student_name, dtype: int64\n"
     ]
    }
   ],
   "source": [
    "# Calculate the number of students per school with reading scores of 70 or higher from school_data_complete\n",
    "school_students_passing_reading = school_data_complete[school_data_complete['reading_score'] >= 70].groupby('school_name')['student_name'].count()\n",
    "print(school_students_passing_reading)"
   ]
  },
  {
   "cell_type": "code",
   "execution_count": 19,
   "metadata": {},
   "outputs": [
    {
     "name": "stdout",
     "output_type": "stream",
     "text": [
      "school_name\n",
      "Bailey High School       2719\n",
      "Cabrera High School      1697\n",
      "Figueroa High School     1569\n",
      "Ford High School         1487\n",
      "Griffin High School      1330\n",
      "Hernandez High School    2481\n",
      "Holden High School        381\n",
      "Huang High School        1561\n",
      "Johnson High School      2549\n",
      "Pena High School          871\n",
      "Rodriguez High School    2119\n",
      "Shelton High School      1583\n",
      "Thomas High School       1487\n",
      "Wilson High School       2068\n",
      "Wright High School       1626\n",
      "dtype: int64\n"
     ]
    }
   ],
   "source": [
    "# Use the provided code to calculate the number of students per school that passed both math and reading with scores of 70 or higher\n",
    "\n",
    "school_students_passing_math_and_reading = school_data_complete[(school_data_complete[\"reading_score\"] >= 70) & (school_data_complete[\"math_score\"] >= 70)]\n",
    "school_students_passing_math_and_reading\n",
    "overall_passing_rate = school_students_passing_math_and_reading.groupby([\"school_name\"]).size()\n",
    "overall_passing_rate\n",
    "\n",
    "print(overall_passing_rate)"
   ]
  },
  {
   "cell_type": "code",
   "execution_count": 20,
   "metadata": {},
   "outputs": [
    {
     "name": "stdout",
     "output_type": "stream",
     "text": [
      "school_name\n",
      "Bailey High School      6.666667\n",
      "Cabrera High School     6.666667\n",
      "Figueroa High School    6.666667\n",
      "Name: student_name, dtype: float64\n",
      "school_name\n",
      "Bailey High School      6.666667\n",
      "Cabrera High School     6.666667\n",
      "Figueroa High School    6.666667\n",
      "Name: student_name, dtype: float64\n",
      "                        Student ID  student_name        gender         grade  \\\n",
      "school_name                                                                    \n",
      "Bailey High School    18126.666667  18126.666667  18126.666667  18126.666667   \n",
      "Cabrera High School   11313.333333  11313.333333  11313.333333  11313.333333   \n",
      "Figueroa High School  10460.000000  10460.000000  10460.000000  10460.000000   \n",
      "\n",
      "                      reading_score    math_score     School ID          type  \\\n",
      "school_name                                                                     \n",
      "Bailey High School     18126.666667  18126.666667  18126.666667  18126.666667   \n",
      "Cabrera High School    11313.333333  11313.333333  11313.333333  11313.333333   \n",
      "Figueroa High School   10460.000000  10460.000000  10460.000000  10460.000000   \n",
      "\n",
      "                              size        budget  \n",
      "school_name                                       \n",
      "Bailey High School    18126.666667  18126.666667  \n",
      "Cabrera High School   11313.333333  11313.333333  \n",
      "Figueroa High School  10460.000000  10460.000000  \n"
     ]
    }
   ],
   "source": [
    "# Calculate the passing rates\n",
    "percentage_passing_math = school_students_passing_math.groupby([\"school_name\"]).count() / school_counts * 100\n",
    "print(percentage_passing_math.head(3))\n",
    "percentage_passing_reading = school_students_passing_reading.groupby([\"school_name\"]).count() / school_counts * 100\n",
    "print(percentage_passing_reading.head(3))\n",
    "overall_passing_rate = school_students_passing_math_and_reading.groupby([\"school_name\"]).count() / school_counts * 100\n",
    "print(overall_passing_rate.head(3))"
   ]
  },
  {
   "cell_type": "code",
   "execution_count": 21,
   "metadata": {},
   "outputs": [
    {
     "data": {
      "text/plain": [
       "Index(['Student ID', 'student_name', 'gender', 'grade', 'school_name',\n",
       "       'reading_score', 'math_score', 'School ID', 'type', 'size', 'budget'],\n",
       "      dtype='object')"
      ]
     },
     "execution_count": 21,
     "metadata": {},
     "output_type": "execute_result"
    }
   ],
   "source": [
    "school_data_complete.columns"
   ]
  },
  {
   "cell_type": "code",
   "execution_count": 22,
   "metadata": {},
   "outputs": [
    {
     "name": "stdout",
     "output_type": "stream",
     "text": [
      "<bound method NDFrame.head of        index  Student ID       student_name gender grade         school_name  \\\n",
      "0          0           0       Paul Bradley      M   9th   Huang High School   \n",
      "1          1           1       Victor Smith      M  12th   Huang High School   \n",
      "2          2           2    Kevin Rodriguez      M  12th   Huang High School   \n",
      "3          3           3  Dr. Richard Scott      M  12th   Huang High School   \n",
      "4          4           4         Bonnie Ray      F   9th   Huang High School   \n",
      "...      ...         ...                ...    ...   ...                 ...   \n",
      "39165  39165       39165       Donna Howard      F  12th  Thomas High School   \n",
      "39166  39166       39166          Dawn Bell      F  10th  Thomas High School   \n",
      "39167  39167       39167     Rebecca Tanner      F   9th  Thomas High School   \n",
      "39168  39168       39168       Desiree Kidd      F  10th  Thomas High School   \n",
      "39169  39169       39169    Carolyn Jackson      F  11th  Thomas High School   \n",
      "\n",
      "       reading_score  math_score  School ID      type  size   budget  \\\n",
      "0                 66          79          0  District  2917  1910635   \n",
      "1                 94          61          0  District  2917  1910635   \n",
      "2                 90          60          0  District  2917  1910635   \n",
      "3                 67          58          0  District  2917  1910635   \n",
      "4                 97          84          0  District  2917  1910635   \n",
      "...              ...         ...        ...       ...   ...      ...   \n",
      "39165             99          90         14   Charter  1635  1043130   \n",
      "39166             95          70         14   Charter  1635  1043130   \n",
      "39167             73          84         14   Charter  1635  1043130   \n",
      "39168             99          90         14   Charter  1635  1043130   \n",
      "39169             95          75         14   Charter  1635  1043130   \n",
      "\n",
      "       Per Student Budget  \n",
      "0                   655.0  \n",
      "1                   655.0  \n",
      "2                   655.0  \n",
      "3                   655.0  \n",
      "4                   655.0  \n",
      "...                   ...  \n",
      "39165               638.0  \n",
      "39166               638.0  \n",
      "39167               638.0  \n",
      "39168               638.0  \n",
      "39169               638.0  \n",
      "\n",
      "[39170 rows x 13 columns]>\n"
     ]
    }
   ],
   "source": [
    "# Calculate the per student budget\n",
    "school_data_complete[\"Per Student Budget\"] = school_data_complete[\"budget\"] / school_data_complete[\"size\"]\n",
    "\n",
    "# Group by school_name\n",
    "school_group = school_data_complete.groupby(\"school_name\")\n",
    "\n",
    "# Reset the index of the school_group DataFrame after groupby\n",
    "school_group = school_data_complete.reset_index()\n",
    "\n",
    "# Calculate mean passing rates\n",
    "mean_passing_math = round((passing_math_count / student_count) * 100, 2)\n",
    "mean_passing_reading = round((passing_reading_count / student_count) * 100, 2)\n",
    "\n",
    "# Create DataFrames for mean passing rates\n",
    "mean_passing_math_df = pd.DataFrame({\"school_name\": school_group[\"school_name\"], \"mean_passing_math\": mean_passing_math})\n",
    "mean_passing_reading_df = pd.DataFrame({\"school_name\": school_group[\"school_name\"], \"mean_passing_reading\": mean_passing_reading})\n",
    "\n",
    "\n",
    "print (school_group.head)"
   ]
  },
  {
   "cell_type": "code",
   "execution_count": 23,
   "metadata": {},
   "outputs": [
    {
     "name": "stdout",
     "output_type": "stream",
     "text": [
      "       index  Student ID       student_name gender grade         school_name  \\\n",
      "0          0           0       Paul Bradley      M   9th   Huang High School   \n",
      "1          1           1       Victor Smith      M  12th   Huang High School   \n",
      "2          2           2    Kevin Rodriguez      M  12th   Huang High School   \n",
      "3          3           3  Dr. Richard Scott      M  12th   Huang High School   \n",
      "4          4           4         Bonnie Ray      F   9th   Huang High School   \n",
      "...      ...         ...                ...    ...   ...                 ...   \n",
      "39165  39165       39165       Donna Howard      F  12th  Thomas High School   \n",
      "39166  39166       39166          Dawn Bell      F  10th  Thomas High School   \n",
      "39167  39167       39167     Rebecca Tanner      F   9th  Thomas High School   \n",
      "39168  39168       39168       Desiree Kidd      F  10th  Thomas High School   \n",
      "39169  39169       39169    Carolyn Jackson      F  11th  Thomas High School   \n",
      "\n",
      "       reading_score  math_score  School ID      type  size   budget  \\\n",
      "0                 66          79          0  District  2917  1910635   \n",
      "1                 94          61          0  District  2917  1910635   \n",
      "2                 90          60          0  District  2917  1910635   \n",
      "3                 67          58          0  District  2917  1910635   \n",
      "4                 97          84          0  District  2917  1910635   \n",
      "...              ...         ...        ...       ...   ...      ...   \n",
      "39165             99          90         14   Charter  1635  1043130   \n",
      "39166             95          70         14   Charter  1635  1043130   \n",
      "39167             73          84         14   Charter  1635  1043130   \n",
      "39168             99          90         14   Charter  1635  1043130   \n",
      "39169             95          75         14   Charter  1635  1043130   \n",
      "\n",
      "       Per Student Budget  \n",
      "0                   655.0  \n",
      "1                   655.0  \n",
      "2                   655.0  \n",
      "3                   655.0  \n",
      "4                   655.0  \n",
      "...                   ...  \n",
      "39165               638.0  \n",
      "39166               638.0  \n",
      "39167               638.0  \n",
      "39168               638.0  \n",
      "39169               638.0  \n",
      "\n",
      "[39170 rows x 13 columns]\n"
     ]
    }
   ],
   "source": [
    "# Rename the columns\n",
    "school_group.rename(columns={\"Math_Pass\": \"% Passing Math\", \"Reading_Pass\": \"% Passing Reading\"}, inplace=True)\n",
    "\n",
    "# Calculate the overall passing rate\n",
    "percentage_overall_passing_rate = round((percentage_passing_math + percentage_passing_reading) / 2, 2)\n",
    "\n",
    "print(school_group)"
   ]
  },
  {
   "cell_type": "code",
   "execution_count": 24,
   "metadata": {},
   "outputs": [
    {
     "name": "stdout",
     "output_type": "stream",
     "text": [
      "Index(['index', 'Student ID', 'student_name', 'gender', 'grade', 'school_name',\n",
      "       'reading_score', 'math_score', 'School ID_x', 'type_x', 'size_x',\n",
      "       'budget_x', 'Per Student Budget', 'School ID_y', 'type_y', 'size_y',\n",
      "       'budget_y'],\n",
      "      dtype='object')\n"
     ]
    }
   ],
   "source": [
    "# Merge with school_data to collect information about the type, size, and budget\n",
    "school_data_summary = pd.merge(school_group, school_data, how=\"left\", on=\"school_name\")\n",
    "\n",
    "# Check the columns before deleting\n",
    "print(school_data_summary.columns)"
   ]
  },
  {
   "cell_type": "code",
   "execution_count": 25,
   "metadata": {},
   "outputs": [
    {
     "name": "stdout",
     "output_type": "stream",
     "text": [
      "       index       student_name gender grade         school_name  \\\n",
      "0          0       Paul Bradley      M   9th   Huang High School   \n",
      "1          1       Victor Smith      M  12th   Huang High School   \n",
      "2          2    Kevin Rodriguez      M  12th   Huang High School   \n",
      "3          3  Dr. Richard Scott      M  12th   Huang High School   \n",
      "4          4         Bonnie Ray      F   9th   Huang High School   \n",
      "...      ...                ...    ...   ...                 ...   \n",
      "39165  39165       Donna Howard      F  12th  Thomas High School   \n",
      "39166  39166          Dawn Bell      F  10th  Thomas High School   \n",
      "39167  39167     Rebecca Tanner      F   9th  Thomas High School   \n",
      "39168  39168       Desiree Kidd      F  10th  Thomas High School   \n",
      "39169  39169    Carolyn Jackson      F  11th  Thomas High School   \n",
      "\n",
      "       reading_score  math_score    type_x  size_x  budget_x  \\\n",
      "0                 66          79  District    2917   1910635   \n",
      "1                 94          61  District    2917   1910635   \n",
      "2                 90          60  District    2917   1910635   \n",
      "3                 67          58  District    2917   1910635   \n",
      "4                 97          84  District    2917   1910635   \n",
      "...              ...         ...       ...     ...       ...   \n",
      "39165             99          90   Charter    1635   1043130   \n",
      "39166             95          70   Charter    1635   1043130   \n",
      "39167             73          84   Charter    1635   1043130   \n",
      "39168             99          90   Charter    1635   1043130   \n",
      "39169             95          75   Charter    1635   1043130   \n",
      "\n",
      "       Per Student Budget  School ID_y    type_y  \n",
      "0                   655.0            0  District  \n",
      "1                   655.0            0  District  \n",
      "2                   655.0            0  District  \n",
      "3                   655.0            0  District  \n",
      "4                   655.0            0  District  \n",
      "...                   ...          ...       ...  \n",
      "39165               638.0           14   Charter  \n",
      "39166               638.0           14   Charter  \n",
      "39167               638.0           14   Charter  \n",
      "39168               638.0           14   Charter  \n",
      "39169               638.0           14   Charter  \n",
      "\n",
      "[39170 rows x 13 columns]\n"
     ]
    }
   ],
   "source": [
    "# Delete unnecessary columns\n",
    "del school_data_summary['size_y']\n",
    "del school_data_summary['budget_y']\n",
    "del school_data_summary['Student ID']\n",
    "del school_data_summary['School ID_x']\n",
    "\n",
    "print (school_data_summary)"
   ]
  },
  {
   "cell_type": "code",
   "execution_count": 28,
   "metadata": {},
   "outputs": [
    {
     "data": {
      "text/html": [
       "<div>\n",
       "<style scoped>\n",
       "    .dataframe tbody tr th:only-of-type {\n",
       "        vertical-align: middle;\n",
       "    }\n",
       "\n",
       "    .dataframe tbody tr th {\n",
       "        vertical-align: top;\n",
       "    }\n",
       "\n",
       "    .dataframe thead th {\n",
       "        text-align: right;\n",
       "    }\n",
       "</style>\n",
       "<table border=\"1\" class=\"dataframe\">\n",
       "  <thead>\n",
       "    <tr style=\"text-align: right;\">\n",
       "      <th></th>\n",
       "      <th>School Name</th>\n",
       "      <th>School Type</th>\n",
       "      <th>Total Students</th>\n",
       "      <th>Total School Budget</th>\n",
       "      <th>Per Student Budget</th>\n",
       "      <th>Average Math Score</th>\n",
       "      <th>Average Reading Score</th>\n",
       "      <th>% Passing Math</th>\n",
       "      <th>% Passing Reading</th>\n",
       "      <th>% Overall Passing Rate</th>\n",
       "    </tr>\n",
       "  </thead>\n",
       "  <tbody>\n",
       "    <tr>\n",
       "      <th>0</th>\n",
       "      <td>school_name\n",
       "Huang High School     District\n",
       "Hua...</td>\n",
       "      <td>&lt;bound method DataFrame.nunique of           S...</td>\n",
       "      <td>39170</td>\n",
       "      <td>school_name\n",
       "Bailey High School       3124928.0...</td>\n",
       "      <td>school_name\n",
       "Bailey High School       5.318574\n",
       "...</td>\n",
       "      <td>78.99</td>\n",
       "      <td>81.88</td>\n",
       "      <td>74.980853</td>\n",
       "      <td>85.805463</td>\n",
       "      <td>Student ID  student_n...</td>\n",
       "    </tr>\n",
       "  </tbody>\n",
       "</table>\n",
       "</div>"
      ],
      "text/plain": [
       "                                         School Name  \\\n",
       "0  school_name\n",
       "Huang High School     District\n",
       "Hua...   \n",
       "\n",
       "                                         School Type  Total Students  \\\n",
       "0  <bound method DataFrame.nunique of           S...           39170   \n",
       "\n",
       "                                 Total School Budget  \\\n",
       "0  school_name\n",
       "Bailey High School       3124928.0...   \n",
       "\n",
       "                                  Per Student Budget  Average Math Score  \\\n",
       "0  school_name\n",
       "Bailey High School       5.318574\n",
       "...               78.99   \n",
       "\n",
       "   Average Reading Score  % Passing Math  % Passing Reading  \\\n",
       "0                  81.88       74.980853          85.805463   \n",
       "\n",
       "                              % Overall Passing Rate  \n",
       "0                           Student ID  student_n...  "
      ]
     },
     "execution_count": 28,
     "metadata": {},
     "output_type": "execute_result"
    }
   ],
   "source": [
    "# Group by schools\n",
    "school_summary = school_data_complete.groupby([\"school_name\"]).nunique\n",
    "\n",
    "# Create a DataFrame to store the school summary results\n",
    "school_summary = pd.DataFrame(\n",
    "    [{\"School Name\": unique_school_names,\n",
    "    \"School Type\": unique_school_types,\n",
    "    \"Total Students\": student_count,\n",
    "    \"Total School Budget\": school_budget,\n",
    "    \"Per Student Budget\": student_capita, \n",
    "    \"Average Math Score\": round(average_math_score, 2),\n",
    "    \"Average Reading Score\": round(average_reading_score, 2), \n",
    "    \"% Passing Math\": passing_math_percentage,\n",
    "    \"% Passing Reading\": passing_reading_percentage,\n",
    "    \"% Overall Passing Rate\": overall_passing_rate}])\n",
    "\n",
    "school_summary"
   ]
  },
  {
   "cell_type": "code",
   "execution_count": 30,
   "metadata": {},
   "outputs": [
    {
     "data": {
      "text/html": [
       "<div>\n",
       "<style scoped>\n",
       "    .dataframe tbody tr th:only-of-type {\n",
       "        vertical-align: middle;\n",
       "    }\n",
       "\n",
       "    .dataframe tbody tr th {\n",
       "        vertical-align: top;\n",
       "    }\n",
       "\n",
       "    .dataframe thead th {\n",
       "        text-align: right;\n",
       "    }\n",
       "</style>\n",
       "<table border=\"1\" class=\"dataframe\">\n",
       "  <thead>\n",
       "    <tr style=\"text-align: right;\">\n",
       "      <th></th>\n",
       "      <th>School Name</th>\n",
       "      <th>School Type</th>\n",
       "      <th>Total Students</th>\n",
       "      <th>Total School Budget</th>\n",
       "      <th>Per Student Budget</th>\n",
       "      <th>Average Math Score</th>\n",
       "      <th>Average Reading Score</th>\n",
       "      <th>% Passing Math</th>\n",
       "      <th>% Passing Reading</th>\n",
       "      <th>% Overall Passing Rate</th>\n",
       "    </tr>\n",
       "  </thead>\n",
       "  <tbody>\n",
       "    <tr>\n",
       "      <th>0</th>\n",
       "      <td>school_name\n",
       "Huang High School     District\n",
       "Hua...</td>\n",
       "      <td>&lt;bound method DataFrame.nunique of           S...</td>\n",
       "      <td>39170</td>\n",
       "      <td>school_name\n",
       "Bailey High School       3124928.0...</td>\n",
       "      <td>school_name\n",
       "Bailey High School       5.318574\n",
       "...</td>\n",
       "      <td>78.99</td>\n",
       "      <td>81.88</td>\n",
       "      <td>74.980853</td>\n",
       "      <td>85.805463</td>\n",
       "      <td>Student ID  student_n...</td>\n",
       "    </tr>\n",
       "  </tbody>\n",
       "</table>\n",
       "</div>"
      ],
      "text/plain": [
       "                                         School Name  \\\n",
       "0  school_name\n",
       "Huang High School     District\n",
       "Hua...   \n",
       "\n",
       "                                         School Type  Total Students  \\\n",
       "0  <bound method DataFrame.nunique of           S...           39170   \n",
       "\n",
       "                                 Total School Budget  \\\n",
       "0  school_name\n",
       "Bailey High School       3124928.0...   \n",
       "\n",
       "                                  Per Student Budget  Average Math Score  \\\n",
       "0  school_name\n",
       "Bailey High School       5.318574\n",
       "...               78.99   \n",
       "\n",
       "   Average Reading Score  % Passing Math  % Passing Reading  \\\n",
       "0                  81.88       74.980853          85.805463   \n",
       "\n",
       "                              % Overall Passing Rate  \n",
       "0                           Student ID  student_n...  "
      ]
     },
     "execution_count": 30,
     "metadata": {},
     "output_type": "execute_result"
    }
   ],
   "source": [
    "#Formatting\n",
    "school_summary[\"Total Students\"] = school_summary[\"Total Students\"].round(2)\n",
    "school_summary[\"Total School Budget\"] = school_summary[\"Total School Budget\"].round(2)\n",
    "school_summary[\"Per Student Budget\"] = school_summary[\"Per Student Budget\"].round(2)\n",
    "\n",
    "#Display\n",
    "school_summary"
   ]
  },
  {
   "cell_type": "markdown",
   "metadata": {},
   "source": [
    "## Highest-Performing Schools (by % Overall Passing)"
   ]
  },
  {
   "cell_type": "code",
   "execution_count": 42,
   "metadata": {
    "scrolled": true
   },
   "outputs": [
    {
     "ename": "KeyError",
     "evalue": "'overall_passing_rate'",
     "output_type": "error",
     "traceback": [
      "\u001b[0;31m---------------------------------------------------------------------------\u001b[0m",
      "\u001b[0;31mKeyError\u001b[0m                                  Traceback (most recent call last)",
      "\u001b[0;32m/var/folders/7f/nfp2_w1x6cldk6vsywsyjw340000gn/T/ipykernel_1411/816455296.py\u001b[0m in \u001b[0;36m?\u001b[0;34m()\u001b[0m\n\u001b[1;32m      1\u001b[0m \u001b[0;31m# Sort the schools by `% Overall Passing` in descending order and display the top 5 rows.\u001b[0m\u001b[0;34m\u001b[0m\u001b[0;34m\u001b[0m\u001b[0m\n\u001b[0;32m----> 2\u001b[0;31m \u001b[0mtop_schools\u001b[0m \u001b[0;34m=\u001b[0m \u001b[0mschool_summary\u001b[0m\u001b[0;34m.\u001b[0m\u001b[0msort_values\u001b[0m\u001b[0;34m(\u001b[0m\u001b[0;34m[\u001b[0m\u001b[0;34m\"overall_passing_rate\"\u001b[0m\u001b[0;34m]\u001b[0m\u001b[0;34m,\u001b[0m\u001b[0mascending\u001b[0m \u001b[0;34m=\u001b[0m \u001b[0;32mFalse\u001b[0m\u001b[0;34m)\u001b[0m\u001b[0;34m\u001b[0m\u001b[0;34m\u001b[0m\u001b[0m\n\u001b[0m\u001b[1;32m      3\u001b[0m \u001b[0mtop_schools\u001b[0m\u001b[0;34m.\u001b[0m\u001b[0mhead\u001b[0m\u001b[0;34m(\u001b[0m\u001b[0;36m5\u001b[0m\u001b[0;34m)\u001b[0m\u001b[0;34m\u001b[0m\u001b[0;34m\u001b[0m\u001b[0m\n",
      "\u001b[0;32m/opt/anaconda3/envs/dev/lib/python3.10/site-packages/pandas/core/frame.py\u001b[0m in \u001b[0;36m?\u001b[0;34m(self, by, axis, ascending, inplace, kind, na_position, ignore_index, key)\u001b[0m\n\u001b[1;32m   7185\u001b[0m             )\n\u001b[1;32m   7186\u001b[0m         \u001b[0;32melif\u001b[0m \u001b[0mlen\u001b[0m\u001b[0;34m(\u001b[0m\u001b[0mby\u001b[0m\u001b[0;34m)\u001b[0m\u001b[0;34m:\u001b[0m\u001b[0;34m\u001b[0m\u001b[0;34m\u001b[0m\u001b[0m\n\u001b[1;32m   7187\u001b[0m             \u001b[0;31m# len(by) == 1\u001b[0m\u001b[0;34m\u001b[0m\u001b[0;34m\u001b[0m\u001b[0m\n\u001b[1;32m   7188\u001b[0m \u001b[0;34m\u001b[0m\u001b[0m\n\u001b[0;32m-> 7189\u001b[0;31m             \u001b[0mk\u001b[0m \u001b[0;34m=\u001b[0m \u001b[0mself\u001b[0m\u001b[0;34m.\u001b[0m\u001b[0m_get_label_or_level_values\u001b[0m\u001b[0;34m(\u001b[0m\u001b[0mby\u001b[0m\u001b[0;34m[\u001b[0m\u001b[0;36m0\u001b[0m\u001b[0;34m]\u001b[0m\u001b[0;34m,\u001b[0m \u001b[0maxis\u001b[0m\u001b[0;34m=\u001b[0m\u001b[0maxis\u001b[0m\u001b[0;34m)\u001b[0m\u001b[0;34m\u001b[0m\u001b[0;34m\u001b[0m\u001b[0m\n\u001b[0m\u001b[1;32m   7190\u001b[0m \u001b[0;34m\u001b[0m\u001b[0m\n\u001b[1;32m   7191\u001b[0m             \u001b[0;31m# need to rewrap column in Series to apply key function\u001b[0m\u001b[0;34m\u001b[0m\u001b[0;34m\u001b[0m\u001b[0m\n\u001b[1;32m   7192\u001b[0m             \u001b[0;32mif\u001b[0m \u001b[0mkey\u001b[0m \u001b[0;32mis\u001b[0m \u001b[0;32mnot\u001b[0m \u001b[0;32mNone\u001b[0m\u001b[0;34m:\u001b[0m\u001b[0;34m\u001b[0m\u001b[0;34m\u001b[0m\u001b[0m\n",
      "\u001b[0;32m/opt/anaconda3/envs/dev/lib/python3.10/site-packages/pandas/core/generic.py\u001b[0m in \u001b[0;36m?\u001b[0;34m(self, key, axis)\u001b[0m\n\u001b[1;32m   1907\u001b[0m             \u001b[0mvalues\u001b[0m \u001b[0;34m=\u001b[0m \u001b[0mself\u001b[0m\u001b[0;34m.\u001b[0m\u001b[0mxs\u001b[0m\u001b[0;34m(\u001b[0m\u001b[0mkey\u001b[0m\u001b[0;34m,\u001b[0m \u001b[0maxis\u001b[0m\u001b[0;34m=\u001b[0m\u001b[0mother_axes\u001b[0m\u001b[0;34m[\u001b[0m\u001b[0;36m0\u001b[0m\u001b[0;34m]\u001b[0m\u001b[0;34m)\u001b[0m\u001b[0;34m.\u001b[0m\u001b[0m_values\u001b[0m\u001b[0;34m\u001b[0m\u001b[0;34m\u001b[0m\u001b[0m\n\u001b[1;32m   1908\u001b[0m         \u001b[0;32melif\u001b[0m \u001b[0mself\u001b[0m\u001b[0;34m.\u001b[0m\u001b[0m_is_level_reference\u001b[0m\u001b[0;34m(\u001b[0m\u001b[0mkey\u001b[0m\u001b[0;34m,\u001b[0m \u001b[0maxis\u001b[0m\u001b[0;34m=\u001b[0m\u001b[0maxis\u001b[0m\u001b[0;34m)\u001b[0m\u001b[0;34m:\u001b[0m\u001b[0;34m\u001b[0m\u001b[0;34m\u001b[0m\u001b[0m\n\u001b[1;32m   1909\u001b[0m             \u001b[0mvalues\u001b[0m \u001b[0;34m=\u001b[0m \u001b[0mself\u001b[0m\u001b[0;34m.\u001b[0m\u001b[0maxes\u001b[0m\u001b[0;34m[\u001b[0m\u001b[0maxis\u001b[0m\u001b[0;34m]\u001b[0m\u001b[0;34m.\u001b[0m\u001b[0mget_level_values\u001b[0m\u001b[0;34m(\u001b[0m\u001b[0mkey\u001b[0m\u001b[0;34m)\u001b[0m\u001b[0;34m.\u001b[0m\u001b[0m_values\u001b[0m\u001b[0;34m\u001b[0m\u001b[0;34m\u001b[0m\u001b[0m\n\u001b[1;32m   1910\u001b[0m         \u001b[0;32melse\u001b[0m\u001b[0;34m:\u001b[0m\u001b[0;34m\u001b[0m\u001b[0;34m\u001b[0m\u001b[0m\n\u001b[0;32m-> 1911\u001b[0;31m             \u001b[0;32mraise\u001b[0m \u001b[0mKeyError\u001b[0m\u001b[0;34m(\u001b[0m\u001b[0mkey\u001b[0m\u001b[0;34m)\u001b[0m\u001b[0;34m\u001b[0m\u001b[0;34m\u001b[0m\u001b[0m\n\u001b[0m\u001b[1;32m   1912\u001b[0m \u001b[0;34m\u001b[0m\u001b[0m\n\u001b[1;32m   1913\u001b[0m         \u001b[0;31m# Check for duplicates\u001b[0m\u001b[0;34m\u001b[0m\u001b[0;34m\u001b[0m\u001b[0m\n\u001b[1;32m   1914\u001b[0m         \u001b[0;32mif\u001b[0m \u001b[0mvalues\u001b[0m\u001b[0;34m.\u001b[0m\u001b[0mndim\u001b[0m \u001b[0;34m>\u001b[0m \u001b[0;36m1\u001b[0m\u001b[0;34m:\u001b[0m\u001b[0;34m\u001b[0m\u001b[0;34m\u001b[0m\u001b[0m\n",
      "\u001b[0;31mKeyError\u001b[0m: 'overall_passing_rate'"
     ]
    }
   ],
   "source": [
    "# Sort the schools by `% Overall Passing` in descending order and display the top 5 rows.\n",
    "top_schools = school_summary.sort_values([\"overall_passing_rate\"],ascending = False)\n",
    "top_schools.head(5)"
   ]
  },
  {
   "cell_type": "markdown",
   "metadata": {},
   "source": [
    "## Bottom Performing Schools (By % Overall Passing)"
   ]
  },
  {
   "cell_type": "code",
   "execution_count": 33,
   "metadata": {},
   "outputs": [
    {
     "ename": "KeyError",
     "evalue": "'overall_passing_rate'",
     "output_type": "error",
     "traceback": [
      "\u001b[0;31m---------------------------------------------------------------------------\u001b[0m",
      "\u001b[0;31mKeyError\u001b[0m                                  Traceback (most recent call last)",
      "\u001b[0;32m/var/folders/7f/nfp2_w1x6cldk6vsywsyjw340000gn/T/ipykernel_1411/2695606654.py\u001b[0m in \u001b[0;36m?\u001b[0;34m()\u001b[0m\n\u001b[1;32m      1\u001b[0m \u001b[0;31m# Sort the schools by `% Overall Passing` in ascending order and display the top 5 rows.\u001b[0m\u001b[0;34m\u001b[0m\u001b[0;34m\u001b[0m\u001b[0m\n\u001b[0;32m----> 2\u001b[0;31m \u001b[0mbottom_schools\u001b[0m \u001b[0;34m=\u001b[0m\u001b[0mschool_summary\u001b[0m\u001b[0;34m.\u001b[0m\u001b[0msort_values\u001b[0m\u001b[0;34m(\u001b[0m\u001b[0;34m[\u001b[0m\u001b[0;34m\"overall_passing_rate\"\u001b[0m\u001b[0;34m]\u001b[0m\u001b[0;34m,\u001b[0m\u001b[0mascending\u001b[0m \u001b[0;34m=\u001b[0m \u001b[0;32mTrue\u001b[0m\u001b[0;34m)\u001b[0m\u001b[0;34m\u001b[0m\u001b[0;34m\u001b[0m\u001b[0m\n\u001b[0m\u001b[1;32m      3\u001b[0m \u001b[0mbottom_schools\u001b[0m\u001b[0;34m.\u001b[0m\u001b[0mhead\u001b[0m\u001b[0;34m(\u001b[0m\u001b[0;36m5\u001b[0m\u001b[0;34m)\u001b[0m\u001b[0;34m\u001b[0m\u001b[0;34m\u001b[0m\u001b[0m\n\u001b[1;32m      4\u001b[0m \u001b[0mschool_math\u001b[0m \u001b[0;34m=\u001b[0m \u001b[0mschool_data_complete\u001b[0m\u001b[0;34m.\u001b[0m\u001b[0mgroupby\u001b[0m\u001b[0;34m(\u001b[0m\u001b[0;34m[\u001b[0m\u001b[0;34m\"school_name\"\u001b[0m\u001b[0;34m]\u001b[0m\u001b[0;34m)\u001b[0m\u001b[0;34m[\u001b[0m\u001b[0;34m\"math_score\"\u001b[0m\u001b[0;34m]\u001b[0m\u001b[0;34m.\u001b[0m\u001b[0mmean\u001b[0m\u001b[0;34m(\u001b[0m\u001b[0;34m)\u001b[0m\u001b[0;34m\u001b[0m\u001b[0;34m\u001b[0m\u001b[0m\n\u001b[1;32m      5\u001b[0m \u001b[0mschool_reading\u001b[0m \u001b[0;34m=\u001b[0m \u001b[0mschool_data_complete\u001b[0m\u001b[0;34m.\u001b[0m\u001b[0mgroupby\u001b[0m\u001b[0;34m(\u001b[0m\u001b[0;34m[\u001b[0m\u001b[0;34m\"school_name\"\u001b[0m\u001b[0;34m]\u001b[0m\u001b[0;34m)\u001b[0m\u001b[0;34m[\u001b[0m\u001b[0;34m\"reading_score\"\u001b[0m\u001b[0;34m]\u001b[0m\u001b[0;34m.\u001b[0m\u001b[0mmean\u001b[0m\u001b[0;34m(\u001b[0m\u001b[0;34m)\u001b[0m\u001b[0;34m\u001b[0m\u001b[0;34m\u001b[0m\u001b[0m\n",
      "\u001b[0;32m/opt/anaconda3/envs/dev/lib/python3.10/site-packages/pandas/core/frame.py\u001b[0m in \u001b[0;36m?\u001b[0;34m(self, by, axis, ascending, inplace, kind, na_position, ignore_index, key)\u001b[0m\n\u001b[1;32m   7185\u001b[0m             )\n\u001b[1;32m   7186\u001b[0m         \u001b[0;32melif\u001b[0m \u001b[0mlen\u001b[0m\u001b[0;34m(\u001b[0m\u001b[0mby\u001b[0m\u001b[0;34m)\u001b[0m\u001b[0;34m:\u001b[0m\u001b[0;34m\u001b[0m\u001b[0;34m\u001b[0m\u001b[0m\n\u001b[1;32m   7187\u001b[0m             \u001b[0;31m# len(by) == 1\u001b[0m\u001b[0;34m\u001b[0m\u001b[0;34m\u001b[0m\u001b[0m\n\u001b[1;32m   7188\u001b[0m \u001b[0;34m\u001b[0m\u001b[0m\n\u001b[0;32m-> 7189\u001b[0;31m             \u001b[0mk\u001b[0m \u001b[0;34m=\u001b[0m \u001b[0mself\u001b[0m\u001b[0;34m.\u001b[0m\u001b[0m_get_label_or_level_values\u001b[0m\u001b[0;34m(\u001b[0m\u001b[0mby\u001b[0m\u001b[0;34m[\u001b[0m\u001b[0;36m0\u001b[0m\u001b[0;34m]\u001b[0m\u001b[0;34m,\u001b[0m \u001b[0maxis\u001b[0m\u001b[0;34m=\u001b[0m\u001b[0maxis\u001b[0m\u001b[0;34m)\u001b[0m\u001b[0;34m\u001b[0m\u001b[0;34m\u001b[0m\u001b[0m\n\u001b[0m\u001b[1;32m   7190\u001b[0m \u001b[0;34m\u001b[0m\u001b[0m\n\u001b[1;32m   7191\u001b[0m             \u001b[0;31m# need to rewrap column in Series to apply key function\u001b[0m\u001b[0;34m\u001b[0m\u001b[0;34m\u001b[0m\u001b[0m\n\u001b[1;32m   7192\u001b[0m             \u001b[0;32mif\u001b[0m \u001b[0mkey\u001b[0m \u001b[0;32mis\u001b[0m \u001b[0;32mnot\u001b[0m \u001b[0;32mNone\u001b[0m\u001b[0;34m:\u001b[0m\u001b[0;34m\u001b[0m\u001b[0;34m\u001b[0m\u001b[0m\n",
      "\u001b[0;32m/opt/anaconda3/envs/dev/lib/python3.10/site-packages/pandas/core/generic.py\u001b[0m in \u001b[0;36m?\u001b[0;34m(self, key, axis)\u001b[0m\n\u001b[1;32m   1907\u001b[0m             \u001b[0mvalues\u001b[0m \u001b[0;34m=\u001b[0m \u001b[0mself\u001b[0m\u001b[0;34m.\u001b[0m\u001b[0mxs\u001b[0m\u001b[0;34m(\u001b[0m\u001b[0mkey\u001b[0m\u001b[0;34m,\u001b[0m \u001b[0maxis\u001b[0m\u001b[0;34m=\u001b[0m\u001b[0mother_axes\u001b[0m\u001b[0;34m[\u001b[0m\u001b[0;36m0\u001b[0m\u001b[0;34m]\u001b[0m\u001b[0;34m)\u001b[0m\u001b[0;34m.\u001b[0m\u001b[0m_values\u001b[0m\u001b[0;34m\u001b[0m\u001b[0;34m\u001b[0m\u001b[0m\n\u001b[1;32m   1908\u001b[0m         \u001b[0;32melif\u001b[0m \u001b[0mself\u001b[0m\u001b[0;34m.\u001b[0m\u001b[0m_is_level_reference\u001b[0m\u001b[0;34m(\u001b[0m\u001b[0mkey\u001b[0m\u001b[0;34m,\u001b[0m \u001b[0maxis\u001b[0m\u001b[0;34m=\u001b[0m\u001b[0maxis\u001b[0m\u001b[0;34m)\u001b[0m\u001b[0;34m:\u001b[0m\u001b[0;34m\u001b[0m\u001b[0;34m\u001b[0m\u001b[0m\n\u001b[1;32m   1909\u001b[0m             \u001b[0mvalues\u001b[0m \u001b[0;34m=\u001b[0m \u001b[0mself\u001b[0m\u001b[0;34m.\u001b[0m\u001b[0maxes\u001b[0m\u001b[0;34m[\u001b[0m\u001b[0maxis\u001b[0m\u001b[0;34m]\u001b[0m\u001b[0;34m.\u001b[0m\u001b[0mget_level_values\u001b[0m\u001b[0;34m(\u001b[0m\u001b[0mkey\u001b[0m\u001b[0;34m)\u001b[0m\u001b[0;34m.\u001b[0m\u001b[0m_values\u001b[0m\u001b[0;34m\u001b[0m\u001b[0;34m\u001b[0m\u001b[0m\n\u001b[1;32m   1910\u001b[0m         \u001b[0;32melse\u001b[0m\u001b[0;34m:\u001b[0m\u001b[0;34m\u001b[0m\u001b[0;34m\u001b[0m\u001b[0m\n\u001b[0;32m-> 1911\u001b[0;31m             \u001b[0;32mraise\u001b[0m \u001b[0mKeyError\u001b[0m\u001b[0;34m(\u001b[0m\u001b[0mkey\u001b[0m\u001b[0;34m)\u001b[0m\u001b[0;34m\u001b[0m\u001b[0;34m\u001b[0m\u001b[0m\n\u001b[0m\u001b[1;32m   1912\u001b[0m \u001b[0;34m\u001b[0m\u001b[0m\n\u001b[1;32m   1913\u001b[0m         \u001b[0;31m# Check for duplicates\u001b[0m\u001b[0;34m\u001b[0m\u001b[0;34m\u001b[0m\u001b[0m\n\u001b[1;32m   1914\u001b[0m         \u001b[0;32mif\u001b[0m \u001b[0mvalues\u001b[0m\u001b[0;34m.\u001b[0m\u001b[0mndim\u001b[0m \u001b[0;34m>\u001b[0m \u001b[0;36m1\u001b[0m\u001b[0;34m:\u001b[0m\u001b[0;34m\u001b[0m\u001b[0;34m\u001b[0m\u001b[0m\n",
      "\u001b[0;31mKeyError\u001b[0m: 'overall_passing_rate'"
     ]
    }
   ],
   "source": [
    "# Sort the schools by `% Overall Passing` in ascending order and display the top 5 rows.\n",
    "bottom_schools =school_summary.sort_values([\"overall_passing_rate\"],ascending = True)\n",
    "bottom_schools.head(5)\n",
    "school_math = school_data_complete.groupby([\"school_name\"])[\"math_score\"].mean()\n",
    "school_reading = school_data_complete.groupby([\"school_name\"])[\"reading_score\"].mean()"
   ]
  },
  {
   "cell_type": "markdown",
   "metadata": {},
   "source": [
    "## Math Scores by Grade"
   ]
  },
  {
   "cell_type": "code",
   "execution_count": 43,
   "metadata": {},
   "outputs": [
    {
     "ename": "TypeError",
     "evalue": "agg function failed [how->mean,dtype->object]",
     "output_type": "error",
     "traceback": [
      "\u001b[0;31m---------------------------------------------------------------------------\u001b[0m",
      "\u001b[0;31mTypeError\u001b[0m                                 Traceback (most recent call last)",
      "File \u001b[0;32m/opt/anaconda3/envs/dev/lib/python3.10/site-packages/pandas/core/groupby/groupby.py:1942\u001b[0m, in \u001b[0;36mGroupBy._agg_py_fallback\u001b[0;34m(self, how, values, ndim, alt)\u001b[0m\n\u001b[1;32m   1941\u001b[0m \u001b[38;5;28;01mtry\u001b[39;00m:\n\u001b[0;32m-> 1942\u001b[0m     res_values \u001b[38;5;241m=\u001b[39m \u001b[38;5;28;43mself\u001b[39;49m\u001b[38;5;241;43m.\u001b[39;49m\u001b[43m_grouper\u001b[49m\u001b[38;5;241;43m.\u001b[39;49m\u001b[43magg_series\u001b[49m\u001b[43m(\u001b[49m\u001b[43mser\u001b[49m\u001b[43m,\u001b[49m\u001b[43m \u001b[49m\u001b[43malt\u001b[49m\u001b[43m,\u001b[49m\u001b[43m \u001b[49m\u001b[43mpreserve_dtype\u001b[49m\u001b[38;5;241;43m=\u001b[39;49m\u001b[38;5;28;43;01mTrue\u001b[39;49;00m\u001b[43m)\u001b[49m\n\u001b[1;32m   1943\u001b[0m \u001b[38;5;28;01mexcept\u001b[39;00m \u001b[38;5;167;01mException\u001b[39;00m \u001b[38;5;28;01mas\u001b[39;00m err:\n",
      "File \u001b[0;32m/opt/anaconda3/envs/dev/lib/python3.10/site-packages/pandas/core/groupby/ops.py:864\u001b[0m, in \u001b[0;36mBaseGrouper.agg_series\u001b[0;34m(self, obj, func, preserve_dtype)\u001b[0m\n\u001b[1;32m    862\u001b[0m     preserve_dtype \u001b[38;5;241m=\u001b[39m \u001b[38;5;28;01mTrue\u001b[39;00m\n\u001b[0;32m--> 864\u001b[0m result \u001b[38;5;241m=\u001b[39m \u001b[38;5;28;43mself\u001b[39;49m\u001b[38;5;241;43m.\u001b[39;49m\u001b[43m_aggregate_series_pure_python\u001b[49m\u001b[43m(\u001b[49m\u001b[43mobj\u001b[49m\u001b[43m,\u001b[49m\u001b[43m \u001b[49m\u001b[43mfunc\u001b[49m\u001b[43m)\u001b[49m\n\u001b[1;32m    866\u001b[0m npvalues \u001b[38;5;241m=\u001b[39m lib\u001b[38;5;241m.\u001b[39mmaybe_convert_objects(result, try_float\u001b[38;5;241m=\u001b[39m\u001b[38;5;28;01mFalse\u001b[39;00m)\n",
      "File \u001b[0;32m/opt/anaconda3/envs/dev/lib/python3.10/site-packages/pandas/core/groupby/ops.py:885\u001b[0m, in \u001b[0;36mBaseGrouper._aggregate_series_pure_python\u001b[0;34m(self, obj, func)\u001b[0m\n\u001b[1;32m    884\u001b[0m \u001b[38;5;28;01mfor\u001b[39;00m i, group \u001b[38;5;129;01min\u001b[39;00m \u001b[38;5;28menumerate\u001b[39m(splitter):\n\u001b[0;32m--> 885\u001b[0m     res \u001b[38;5;241m=\u001b[39m \u001b[43mfunc\u001b[49m\u001b[43m(\u001b[49m\u001b[43mgroup\u001b[49m\u001b[43m)\u001b[49m\n\u001b[1;32m    886\u001b[0m     res \u001b[38;5;241m=\u001b[39m extract_result(res)\n",
      "File \u001b[0;32m/opt/anaconda3/envs/dev/lib/python3.10/site-packages/pandas/core/groupby/groupby.py:2454\u001b[0m, in \u001b[0;36mGroupBy.mean.<locals>.<lambda>\u001b[0;34m(x)\u001b[0m\n\u001b[1;32m   2451\u001b[0m \u001b[38;5;28;01melse\u001b[39;00m:\n\u001b[1;32m   2452\u001b[0m     result \u001b[38;5;241m=\u001b[39m \u001b[38;5;28mself\u001b[39m\u001b[38;5;241m.\u001b[39m_cython_agg_general(\n\u001b[1;32m   2453\u001b[0m         \u001b[38;5;124m\"\u001b[39m\u001b[38;5;124mmean\u001b[39m\u001b[38;5;124m\"\u001b[39m,\n\u001b[0;32m-> 2454\u001b[0m         alt\u001b[38;5;241m=\u001b[39m\u001b[38;5;28;01mlambda\u001b[39;00m x: \u001b[43mSeries\u001b[49m\u001b[43m(\u001b[49m\u001b[43mx\u001b[49m\u001b[43m,\u001b[49m\u001b[43m \u001b[49m\u001b[43mcopy\u001b[49m\u001b[38;5;241;43m=\u001b[39;49m\u001b[38;5;28;43;01mFalse\u001b[39;49;00m\u001b[43m)\u001b[49m\u001b[38;5;241;43m.\u001b[39;49m\u001b[43mmean\u001b[49m\u001b[43m(\u001b[49m\u001b[43mnumeric_only\u001b[49m\u001b[38;5;241;43m=\u001b[39;49m\u001b[43mnumeric_only\u001b[49m\u001b[43m)\u001b[49m,\n\u001b[1;32m   2455\u001b[0m         numeric_only\u001b[38;5;241m=\u001b[39mnumeric_only,\n\u001b[1;32m   2456\u001b[0m     )\n\u001b[1;32m   2457\u001b[0m     \u001b[38;5;28;01mreturn\u001b[39;00m result\u001b[38;5;241m.\u001b[39m__finalize__(\u001b[38;5;28mself\u001b[39m\u001b[38;5;241m.\u001b[39mobj, method\u001b[38;5;241m=\u001b[39m\u001b[38;5;124m\"\u001b[39m\u001b[38;5;124mgroupby\u001b[39m\u001b[38;5;124m\"\u001b[39m)\n",
      "File \u001b[0;32m/opt/anaconda3/envs/dev/lib/python3.10/site-packages/pandas/core/series.py:6549\u001b[0m, in \u001b[0;36mSeries.mean\u001b[0;34m(self, axis, skipna, numeric_only, **kwargs)\u001b[0m\n\u001b[1;32m   6541\u001b[0m \u001b[38;5;129m@doc\u001b[39m(make_doc(\u001b[38;5;124m\"\u001b[39m\u001b[38;5;124mmean\u001b[39m\u001b[38;5;124m\"\u001b[39m, ndim\u001b[38;5;241m=\u001b[39m\u001b[38;5;241m1\u001b[39m))\n\u001b[1;32m   6542\u001b[0m \u001b[38;5;28;01mdef\u001b[39;00m \u001b[38;5;21mmean\u001b[39m(\n\u001b[1;32m   6543\u001b[0m     \u001b[38;5;28mself\u001b[39m,\n\u001b[0;32m   (...)\u001b[0m\n\u001b[1;32m   6547\u001b[0m     \u001b[38;5;241m*\u001b[39m\u001b[38;5;241m*\u001b[39mkwargs,\n\u001b[1;32m   6548\u001b[0m ):\n\u001b[0;32m-> 6549\u001b[0m     \u001b[38;5;28;01mreturn\u001b[39;00m \u001b[43mNDFrame\u001b[49m\u001b[38;5;241;43m.\u001b[39;49m\u001b[43mmean\u001b[49m\u001b[43m(\u001b[49m\u001b[38;5;28;43mself\u001b[39;49m\u001b[43m,\u001b[49m\u001b[43m \u001b[49m\u001b[43maxis\u001b[49m\u001b[43m,\u001b[49m\u001b[43m \u001b[49m\u001b[43mskipna\u001b[49m\u001b[43m,\u001b[49m\u001b[43m \u001b[49m\u001b[43mnumeric_only\u001b[49m\u001b[43m,\u001b[49m\u001b[43m \u001b[49m\u001b[38;5;241;43m*\u001b[39;49m\u001b[38;5;241;43m*\u001b[39;49m\u001b[43mkwargs\u001b[49m\u001b[43m)\u001b[49m\n",
      "File \u001b[0;32m/opt/anaconda3/envs/dev/lib/python3.10/site-packages/pandas/core/generic.py:12420\u001b[0m, in \u001b[0;36mNDFrame.mean\u001b[0;34m(self, axis, skipna, numeric_only, **kwargs)\u001b[0m\n\u001b[1;32m  12413\u001b[0m \u001b[38;5;28;01mdef\u001b[39;00m \u001b[38;5;21mmean\u001b[39m(\n\u001b[1;32m  12414\u001b[0m     \u001b[38;5;28mself\u001b[39m,\n\u001b[1;32m  12415\u001b[0m     axis: Axis \u001b[38;5;241m|\u001b[39m \u001b[38;5;28;01mNone\u001b[39;00m \u001b[38;5;241m=\u001b[39m \u001b[38;5;241m0\u001b[39m,\n\u001b[0;32m   (...)\u001b[0m\n\u001b[1;32m  12418\u001b[0m     \u001b[38;5;241m*\u001b[39m\u001b[38;5;241m*\u001b[39mkwargs,\n\u001b[1;32m  12419\u001b[0m ) \u001b[38;5;241m-\u001b[39m\u001b[38;5;241m>\u001b[39m Series \u001b[38;5;241m|\u001b[39m \u001b[38;5;28mfloat\u001b[39m:\n\u001b[0;32m> 12420\u001b[0m     \u001b[38;5;28;01mreturn\u001b[39;00m \u001b[38;5;28;43mself\u001b[39;49m\u001b[38;5;241;43m.\u001b[39;49m\u001b[43m_stat_function\u001b[49m\u001b[43m(\u001b[49m\n\u001b[1;32m  12421\u001b[0m \u001b[43m        \u001b[49m\u001b[38;5;124;43m\"\u001b[39;49m\u001b[38;5;124;43mmean\u001b[39;49m\u001b[38;5;124;43m\"\u001b[39;49m\u001b[43m,\u001b[49m\u001b[43m \u001b[49m\u001b[43mnanops\u001b[49m\u001b[38;5;241;43m.\u001b[39;49m\u001b[43mnanmean\u001b[49m\u001b[43m,\u001b[49m\u001b[43m \u001b[49m\u001b[43maxis\u001b[49m\u001b[43m,\u001b[49m\u001b[43m \u001b[49m\u001b[43mskipna\u001b[49m\u001b[43m,\u001b[49m\u001b[43m \u001b[49m\u001b[43mnumeric_only\u001b[49m\u001b[43m,\u001b[49m\u001b[43m \u001b[49m\u001b[38;5;241;43m*\u001b[39;49m\u001b[38;5;241;43m*\u001b[39;49m\u001b[43mkwargs\u001b[49m\n\u001b[1;32m  12422\u001b[0m \u001b[43m    \u001b[49m\u001b[43m)\u001b[49m\n",
      "File \u001b[0;32m/opt/anaconda3/envs/dev/lib/python3.10/site-packages/pandas/core/generic.py:12377\u001b[0m, in \u001b[0;36mNDFrame._stat_function\u001b[0;34m(self, name, func, axis, skipna, numeric_only, **kwargs)\u001b[0m\n\u001b[1;32m  12375\u001b[0m validate_bool_kwarg(skipna, \u001b[38;5;124m\"\u001b[39m\u001b[38;5;124mskipna\u001b[39m\u001b[38;5;124m\"\u001b[39m, none_allowed\u001b[38;5;241m=\u001b[39m\u001b[38;5;28;01mFalse\u001b[39;00m)\n\u001b[0;32m> 12377\u001b[0m \u001b[38;5;28;01mreturn\u001b[39;00m \u001b[38;5;28;43mself\u001b[39;49m\u001b[38;5;241;43m.\u001b[39;49m\u001b[43m_reduce\u001b[49m\u001b[43m(\u001b[49m\n\u001b[1;32m  12378\u001b[0m \u001b[43m    \u001b[49m\u001b[43mfunc\u001b[49m\u001b[43m,\u001b[49m\u001b[43m \u001b[49m\u001b[43mname\u001b[49m\u001b[38;5;241;43m=\u001b[39;49m\u001b[43mname\u001b[49m\u001b[43m,\u001b[49m\u001b[43m \u001b[49m\u001b[43maxis\u001b[49m\u001b[38;5;241;43m=\u001b[39;49m\u001b[43maxis\u001b[49m\u001b[43m,\u001b[49m\u001b[43m \u001b[49m\u001b[43mskipna\u001b[49m\u001b[38;5;241;43m=\u001b[39;49m\u001b[43mskipna\u001b[49m\u001b[43m,\u001b[49m\u001b[43m \u001b[49m\u001b[43mnumeric_only\u001b[49m\u001b[38;5;241;43m=\u001b[39;49m\u001b[43mnumeric_only\u001b[49m\n\u001b[1;32m  12379\u001b[0m \u001b[43m\u001b[49m\u001b[43m)\u001b[49m\n",
      "File \u001b[0;32m/opt/anaconda3/envs/dev/lib/python3.10/site-packages/pandas/core/series.py:6457\u001b[0m, in \u001b[0;36mSeries._reduce\u001b[0;34m(self, op, name, axis, skipna, numeric_only, filter_type, **kwds)\u001b[0m\n\u001b[1;32m   6453\u001b[0m     \u001b[38;5;28;01mraise\u001b[39;00m \u001b[38;5;167;01mTypeError\u001b[39;00m(\n\u001b[1;32m   6454\u001b[0m         \u001b[38;5;124mf\u001b[39m\u001b[38;5;124m\"\u001b[39m\u001b[38;5;124mSeries.\u001b[39m\u001b[38;5;132;01m{\u001b[39;00mname\u001b[38;5;132;01m}\u001b[39;00m\u001b[38;5;124m does not allow \u001b[39m\u001b[38;5;132;01m{\u001b[39;00mkwd_name\u001b[38;5;132;01m}\u001b[39;00m\u001b[38;5;124m=\u001b[39m\u001b[38;5;132;01m{\u001b[39;00mnumeric_only\u001b[38;5;132;01m}\u001b[39;00m\u001b[38;5;124m \u001b[39m\u001b[38;5;124m\"\u001b[39m\n\u001b[1;32m   6455\u001b[0m         \u001b[38;5;124m\"\u001b[39m\u001b[38;5;124mwith non-numeric dtypes.\u001b[39m\u001b[38;5;124m\"\u001b[39m\n\u001b[1;32m   6456\u001b[0m     )\n\u001b[0;32m-> 6457\u001b[0m \u001b[38;5;28;01mreturn\u001b[39;00m \u001b[43mop\u001b[49m\u001b[43m(\u001b[49m\u001b[43mdelegate\u001b[49m\u001b[43m,\u001b[49m\u001b[43m \u001b[49m\u001b[43mskipna\u001b[49m\u001b[38;5;241;43m=\u001b[39;49m\u001b[43mskipna\u001b[49m\u001b[43m,\u001b[49m\u001b[43m \u001b[49m\u001b[38;5;241;43m*\u001b[39;49m\u001b[38;5;241;43m*\u001b[39;49m\u001b[43mkwds\u001b[49m\u001b[43m)\u001b[49m\n",
      "File \u001b[0;32m/opt/anaconda3/envs/dev/lib/python3.10/site-packages/pandas/core/nanops.py:147\u001b[0m, in \u001b[0;36mbottleneck_switch.__call__.<locals>.f\u001b[0;34m(values, axis, skipna, **kwds)\u001b[0m\n\u001b[1;32m    146\u001b[0m \u001b[38;5;28;01melse\u001b[39;00m:\n\u001b[0;32m--> 147\u001b[0m     result \u001b[38;5;241m=\u001b[39m \u001b[43malt\u001b[49m\u001b[43m(\u001b[49m\u001b[43mvalues\u001b[49m\u001b[43m,\u001b[49m\u001b[43m \u001b[49m\u001b[43maxis\u001b[49m\u001b[38;5;241;43m=\u001b[39;49m\u001b[43maxis\u001b[49m\u001b[43m,\u001b[49m\u001b[43m \u001b[49m\u001b[43mskipna\u001b[49m\u001b[38;5;241;43m=\u001b[39;49m\u001b[43mskipna\u001b[49m\u001b[43m,\u001b[49m\u001b[43m \u001b[49m\u001b[38;5;241;43m*\u001b[39;49m\u001b[38;5;241;43m*\u001b[39;49m\u001b[43mkwds\u001b[49m\u001b[43m)\u001b[49m\n\u001b[1;32m    149\u001b[0m \u001b[38;5;28;01mreturn\u001b[39;00m result\n",
      "File \u001b[0;32m/opt/anaconda3/envs/dev/lib/python3.10/site-packages/pandas/core/nanops.py:404\u001b[0m, in \u001b[0;36m_datetimelike_compat.<locals>.new_func\u001b[0;34m(values, axis, skipna, mask, **kwargs)\u001b[0m\n\u001b[1;32m    402\u001b[0m     mask \u001b[38;5;241m=\u001b[39m isna(values)\n\u001b[0;32m--> 404\u001b[0m result \u001b[38;5;241m=\u001b[39m \u001b[43mfunc\u001b[49m\u001b[43m(\u001b[49m\u001b[43mvalues\u001b[49m\u001b[43m,\u001b[49m\u001b[43m \u001b[49m\u001b[43maxis\u001b[49m\u001b[38;5;241;43m=\u001b[39;49m\u001b[43maxis\u001b[49m\u001b[43m,\u001b[49m\u001b[43m \u001b[49m\u001b[43mskipna\u001b[49m\u001b[38;5;241;43m=\u001b[39;49m\u001b[43mskipna\u001b[49m\u001b[43m,\u001b[49m\u001b[43m \u001b[49m\u001b[43mmask\u001b[49m\u001b[38;5;241;43m=\u001b[39;49m\u001b[43mmask\u001b[49m\u001b[43m,\u001b[49m\u001b[43m \u001b[49m\u001b[38;5;241;43m*\u001b[39;49m\u001b[38;5;241;43m*\u001b[39;49m\u001b[43mkwargs\u001b[49m\u001b[43m)\u001b[49m\n\u001b[1;32m    406\u001b[0m \u001b[38;5;28;01mif\u001b[39;00m datetimelike:\n",
      "File \u001b[0;32m/opt/anaconda3/envs/dev/lib/python3.10/site-packages/pandas/core/nanops.py:720\u001b[0m, in \u001b[0;36mnanmean\u001b[0;34m(values, axis, skipna, mask)\u001b[0m\n\u001b[1;32m    719\u001b[0m the_sum \u001b[38;5;241m=\u001b[39m values\u001b[38;5;241m.\u001b[39msum(axis, dtype\u001b[38;5;241m=\u001b[39mdtype_sum)\n\u001b[0;32m--> 720\u001b[0m the_sum \u001b[38;5;241m=\u001b[39m \u001b[43m_ensure_numeric\u001b[49m\u001b[43m(\u001b[49m\u001b[43mthe_sum\u001b[49m\u001b[43m)\u001b[49m\n\u001b[1;32m    722\u001b[0m \u001b[38;5;28;01mif\u001b[39;00m axis \u001b[38;5;129;01mis\u001b[39;00m \u001b[38;5;129;01mnot\u001b[39;00m \u001b[38;5;28;01mNone\u001b[39;00m \u001b[38;5;129;01mand\u001b[39;00m \u001b[38;5;28mgetattr\u001b[39m(the_sum, \u001b[38;5;124m\"\u001b[39m\u001b[38;5;124mndim\u001b[39m\u001b[38;5;124m\"\u001b[39m, \u001b[38;5;28;01mFalse\u001b[39;00m):\n",
      "File \u001b[0;32m/opt/anaconda3/envs/dev/lib/python3.10/site-packages/pandas/core/nanops.py:1701\u001b[0m, in \u001b[0;36m_ensure_numeric\u001b[0;34m(x)\u001b[0m\n\u001b[1;32m   1699\u001b[0m \u001b[38;5;28;01mif\u001b[39;00m \u001b[38;5;28misinstance\u001b[39m(x, \u001b[38;5;28mstr\u001b[39m):\n\u001b[1;32m   1700\u001b[0m     \u001b[38;5;66;03m# GH#44008, GH#36703 avoid casting e.g. strings to numeric\u001b[39;00m\n\u001b[0;32m-> 1701\u001b[0m     \u001b[38;5;28;01mraise\u001b[39;00m \u001b[38;5;167;01mTypeError\u001b[39;00m(\u001b[38;5;124mf\u001b[39m\u001b[38;5;124m\"\u001b[39m\u001b[38;5;124mCould not convert string \u001b[39m\u001b[38;5;124m'\u001b[39m\u001b[38;5;132;01m{\u001b[39;00mx\u001b[38;5;132;01m}\u001b[39;00m\u001b[38;5;124m'\u001b[39m\u001b[38;5;124m to numeric\u001b[39m\u001b[38;5;124m\"\u001b[39m)\n\u001b[1;32m   1702\u001b[0m \u001b[38;5;28;01mtry\u001b[39;00m:\n",
      "\u001b[0;31mTypeError\u001b[0m: Could not convert string 'Blake MartinFrank MarshCharles Goodman Jr.Aaron MoyerMichael DeanRobin VegaKenneth JuarezGerald SmithDavid HernandezMatthew SinghJeremiah WhiteLisa AguilarDanielle HarrisKristin JohnsonKevin MartinAnna MyersTimothy HigginsAnthony FordNicole RoseChristopher LongMr. Michael AllenCasey JonesJoseph KellyDebra BrownJacqueline SheaSara MurphyNatalie GrantPeter MillerDavid CannonValerie MayApril FisherBradley HunterJohn WilliamsonAnthony SpencerJoseph AllenAngela WallJames FerrellRobert RodriguezDarius WilliamsBrian TrevinoAndrea GreenAustin JohnstonGuy ThomasDesiree GordonScott ClarkLinda SinghWilliam PerryTerry SantanaApril StevensAnthony TorresWayne GuerreroMonique CarterChristine LeeJay SmithRobert ReyesRichard MacdonaldJonathan TuckerChelsea KempMelissa BowmanWilliam SimpsonAmanda DavisBrandon MedinaPatricia WilliamsJeremy CharlesTyler GonzalezKristen GreenRichard WallerLaura LindseyMark AlvarezMatthew ThomasHeather GouldJacqueline SnowApril Calderon MDMichael WaltersErin HaleMichael AndersonPeggy BautistaGina BarberDavid HarrisNathan JonesAdam CruzPeter GonzalezBarbara RobinsonSteven WongAdam HerringPatricia MillerJim StevensJordan MclaughlinVincent MartinTracey BensonNatasha EverettErin ParksStephen ThompsonDaniel KingBenjamin MurrayKristen SmithJohn CarrilloMark BrowningEric Park DDSBrian MosleyPatricia MarshJennifer AndersonDanielle HoodMatthew CarterStephanie ThomasCathy MercadoSheila LewisPatrick Barker PhDAna BurnsChloe DownsJoshua FloresBianca BoyerWilliam ThompsonJonathan LongSamantha PattersonEmily PowellLouis WatersNathan DominguezKristin KellerJordan StewartBrian DunnEmily MartinJamie MillerNathan AtkinsonKelly MartinezCarlos RamirezAllen Morris Jr.Sarah RobertsPatricia HoBreanna MorrisEmily TurnerAlyssa RodriguezRichard JohnsonMary GreenMegan MillerWanda BaileyRenee RodriguezJeffrey PayneKari CharlesKelly HarmonShannon WeaverPatty NelsonAndrea JonesDale WhitakerKatherine DeanBrittney HenryAaron RodriguezDr. Carl JamesWilliam FrancisDanielle DyerMichael WagnerAmanda RogersPatricia JonesVictor MartinDr. Kimberly BenjaminMichelle BeckerJoseph NunezKeith AlvarezRicardo VazquezMatthew HawkinsNicole SmithSarah HodgeAmber BlevinsBenjamin BatesThomas MarshallAnna JohnsonRyan Graham MDTerri MillerTaylor DominguezLisa HarrisMichael RobinsonMelissa KellyChase RayTracy RodriguezYvonne WareJake MilesChristopher MyersCindy MurphyDylan JohnsonFrank NewmanLisa MyersKristine KellyMelissa AndersonMarissa BlevinsJason HallJoseph HernandezWanda MaddoxArthur KochNicholas DanielJerry RichardsJoel PittsThomas HerreraJennifer CarlsonJorge McdonaldStephanie Howard MDAlyssa WilliamsonPedro LongJames SmithGregory HerringDaniel BarrettTravis ComptonDaniel RowlandJonathon WillisAdam RodriguezDominique LloydJoyce RobertsJon GriffinJoseph ForbesDustin MarquezSean WellsDeanna CombsDanielle HayesKrystal ReynoldsCarl MartinezBrandon PopeAmanda RodriguezMarco WilliamsErica CollinsPenny NguyenLori LeeLori SmithBryan MooreJaclyn CobbVeronica DiazBarbara LarsenSteven HartmanMegan VillaAlex ConnerDanielle HurleyJames CalhounRyan GreenVeronica GomezWilliam SwansonLauren WestJohn BrownTonya SaundersDavid ThomasCrystal EdwardsCathy RamosChris RobertsKatherine TuckerJustin HillSarah AllenJessica BauerJames RodgersJacqueline EwingJacob ThomasNatalie JohnstonFelicia MatthewsRobert LawrenceJoshua MorganSierra JohnsonTravis HeathMelanie AndersonKenneth GarciaMaria BrockAdam PattonMatthew MezaAmanda JohnsonJesse HernandezPenny DeckerBobby WilliamsMargaret HortonRonnie BarrettAllen OnealGerald LangWilliam HudsonDerek SilvaDarlene LeeHarold JohnstonDonna ReedWanda PhillipsMegan JonesTheresa ShieldsMark LeeErica BakerVirginia BallardAaron AtkinsonBianca Huynh MDDaniel PhillipsThomas JohnsonNicole LopezAdam LambMonica RobersonDouglas RodriguezSarah OrtizDeanna MendozaMelissa Dunn MDLauren KochWilliam FrenchJared WashingtonJames JacksonMelissa SandovalMr. Angel JohnsonChad EvansDonald MyersNicole JohnsonWendy RiveraWilliam PinedaRebecca StoutDerek DiazTravis WebbShane PerezJasmine CampbellMason RaymondVincent EllisJoseph McgeeKatelyn DayAmy BeckerKenneth HughesKimberly FrazierMichael Garcia Jr.April HallJessica MatthewsMr. Daniel Nguyen DDSChristopher KelleyHeather WeaverTaylor GambleSteven BaileyRichard HernandezNancy McclurePaul ClarkeEric ArnoldElizabeth MeyerKaitlin BarrettAnthony PatelApril GillespieJohn SnyderRoy DeckerMatthew JonesKenneth MartinezKevin BrowningChristine IbarraMelissa BrownMichael PerezNorman BurnsJames MarshallTaylor CohenAlejandro CarterAllison GardnerEmily CollierDebbie Brown DVMAmy ShawTaylor MedinaLisa RichardsDana CruzJustin HenryRobert WeberTamara MooreKim StewartAdriana SmithJoshua Kim DDSCarol JohnsonMr. Jesse BellEmily WarrenAlexandra HendricksJulie MoralesJason JohnsonLisa JonesMonica SmithEric EdwardsMichael BurnettDerek MayPaul WoodMiguel JohnsonDouglas HardyKaitlyn ChambersCarlos YoungLindsay LinPhillip WashingtonAlexis MatthewsAndrew ThomasDerek Barker Jr.Jeremy WoodAndrew JimenezJennifer ButlerMrs. Renee GordonMichelle MurrayJennifer StoneDavid KirbySheila YoungHeather WatsonRobert RossKristen LunaDawn MartinezSavannah RamseyWilliam SalasHolly MooreJason CarterRyan SmithBrett EricksonChristina AyalaJames GarciaConnor CobbCrystal BuchananSherri PadillaJustin PowellVanessa TuckerTyler HarperRobert GreerBarry HallMargaret LeeDavid DiazRenee MonroeKristen MitchellSamantha MartinJessica FarmerCarlos BrownMiguel MaciasAlejandra WilliamsonMary GriffinMatthew GrantAnnette RossCarolyn MillerErica MillerMark MclaughlinJamie GibsonMatthew RiggsBetty IrwinFrederick LeeHelen GayCourtney ThompsonDiana ChapmanKenneth DiazKenneth HartmanRachel LopezCassandra BaldwinJose ButlerJohn LoveMrs. Amanda MartinMichael MooreJohn VaughnRebecca ChungDaniel HartMackenzie MasonDavid HarveyChristina ButlerSheila BrownJeffrey GalvanRegina ParkerTracy ChapmanEdward SmithShawn PetersonBryan GuerraHeather StokesMartha BestCynthia WolfeDavid TaylorRebecca HansenJessica CarneyJoshua SanchezRegina GarciaCourtney GibsonBrandon DelacruzTheresa SummersKarina LeePeter RileyChristopher OneillDaniel KleinKatherine EdwardsElizabeth ShermanWilliam BrewerLauren LoganAmanda WalkerAmanda McdanielKevin WilliamsMrs. Pamela GarciaAngela RojasBeth SullivanMarie StoutEmily AllenDanielle Stanton MDConnie BushErica ShawPhilip RobinsonMiguel SmithFrank HoffmanKevin ColemanAndrea HallMark BrownKathleen ValdezJessica WardRebecca GonzalesMike McdanielPamela HughesPamela RitterTimothy ScottStephen LawrenceTracey OchoaBridget BurkeJason WhiteMichelle WashingtonRaymond VargasJeffrey GreenMichael MontgomeryAlejandro BarnettElaine JamesBrianna WhiteAlyssa JenningsTony NelsonLaurie FergusonKelly WileyDustin PetersenChristopher WilkersonDr. David MillerCorey BenjaminCharles PerezKyle DeanTonya WalshWendy DavisJoshua LoveMichael AdamsMrs. Sheena Bailey DVMJoan CaldwellBridget GrahamBrian ChangAlicia ButlerJames BrownDiane VargasMichele OnealZachary Garrett IIIDavid JohnsonKristy PopeMadison BurnsCynthia MooreTaylor ReedNathan PrattAmanda MartinBarbara WhiteMichael GrimesLaura NobleKevin QuinnDavid StoneSeth GreenAmy MooreCarolyn AriasAmy Mcintosh MDChristina KhanDr. Frank AndersonBecky JonesKathleen RamirezCatherine WilsonSandra DuncanJeffrey RivasJordan CruzCindy CruzTina RodriguezDavid RiveraBrian SilvaJoseph MurphyDawn HernandezMichael PatelBreanna MercerDavid PayneRuth ArmstrongJennifer JamesRachael HortonAshley TorresDaniel CherryAmanda FieldsVernon RossMarie HernandezMichael KimKevin BarnettMary WilliamsPaul HallBrittney HughesRonald HickmanMallory HowardKendra YangJames TurnerThomas LewisPhillip BishopAndrea BartonChristopher MillerErin PhillipsHeather HallKatrina AdkinsNicole MitchellPatty RyanLinda GravesMargaret AndersonRichard DeckerDarren BrooksHeather SmithMatthew TaylorCynthia GreenChristopher PhillipsMegan OlsonTiffany SmithVictor SmithAmy ParkerKelly ColemanEric KnappJustin WilliamsMallory AndersonJohn ClarkAnne HansenTina ButlerCody SchaeferThomas Burgess MDJoseph HodgesDaniel MillsAmanda Hale DVMGregory SchneiderClinton NguyenRussell ThompsonMegan FlemingDebbie BlackwellLaura JenkinsJordan AndersonAmanda IbarraJonathan KrauseDr. Daniel BowmanTammy JohnsonLinda HerreraJonathan MartinezChristine JohnsonTanya FisherAngelica HumphreyJustin JohnstonApril RodriguezAmber ThompsonMelissa BanksLori Mitchell DDSAmy SmithRichard DayJennifer MackJames SmithNicole PettyTina HillZachary SchultzMrs. Pam Lewis DVMKelsey HarrisRobert MitchellKelly HopkinsAmanda GrahamAmy Gutierrez DDSDawn RamirezKenneth WardMelody ScottAshley BarryAngela WilkinsTodd SimmonsDavid LunaLeonard CoxPeter TuckerCynthia NelsonPeter MillerAaron GarciaPatrick WhitneyMargaret QuinnAmber MooreMatthew AguilarDenise CarterJared BrownAmber VillanuevaAmy CohenMichael LeeStephanie AriasJenna GreerCameron CordovaJeremy PayneNathan ArroyoRussell BanksJoshua RamirezJay KirkAlicia SchwartzAnna CamachoCarla WilsonJessica WrightWilliam BlackAshley TerryJeffery PowellDaniel SandersMichael GarnerMaria WilliamsBrenda RayChelsea LewisNicholas RamosJennifer WashingtonAudrey WellsBarbara WoodAndrea ThompsonJason CoxSarah RobinsonHeidi MartinJanet ChanJeffrey RobbinsTheresa NicholsAmy HansenJoshua BrownKent ShermanEddie AlvarezYvonne Robinson PhDJennifer RamosTracy MorrisonCrystal JohnsonApril TrujilloLisa SanchezDeborah NelsonKevin GoodwinAbigail PerezDonna RoseAndrew WintersJessica HartLauren KlineGregory AllisonThomas JohnsonVanessa StevensonKathleen BeltranMartha Mcdonald DVMKevin JohnsonDr. Mary SchwartzAnthony MeadowsErnest PowellDavid FergusonMariah HoltNancy MartinStacey ThompsonAndrew RyanMallory ChenErika BurchRobert MorrowAustin ChavezJustin WilsonLisa MurrayJeremy WattsJustin ChenRenee BuckleyShannon PriceBarbara WhiteheadJackie KirkAngel MayerDeborah AndersonJacqueline West DDSAnita ZunigaDavid ChapmanBeverly BauerJessica NguyenMelissa LewisAmanda SchaeferJacqueline Snow MDMarcus RushAngela StewartJorge HoDr. Jennifer SheaChristopher CantuJonathan HaleErin BowersAnthony HernandezEduardo SantiagoDana HaynesClayton Williams DVMNatalie WhitakerFrances WhiteMeghan AdamsStephen FitzgeraldAmy BairdMolly BrownAmanda SloanEric WilliamsEmma VasquezSherry GomezAaron CarterAlan ScottJennifer CannonLindsay NicholsonStephanie JonesJose SmithKimberly MooreMelissa SchultzSteven CalhounJohn BallZachary WilliamsKimberly JacksonKristen WilliamsonSamantha HoffmanDanielle GonzalezCharles IngramTimothy GravesAnna RodriguezAmanda KaneJoseph JonesDebra JacksonErik DunlapMeghan HarperJennifer PinedaJohn WhiteKaren FischerTodd DavisLarry Chandler Jr.Veronica PotterRobert VelezAshley WeissErika JohnsonJesus GordonKathy JacksonAshley WilliamsJuan LopezAnna HaynesDon MurrayJohn GarzaSteven WhiteDavid SalazarDaniel WrightRebecca MolinaBetty EricksonCameron Roman Jr.Kelly PierceSergio McfarlandJeffrey ChavezAmanda GalvanRonald PooleJohn WallaceGina AguilarMelissa SullivanJeffery ToddDaniel BurtonJulie AllisonCarolyn CookMike AllenAngela CostaKarina CalderonFelicia CampbellElizabeth DixonNancy WheelerMichael WatsonJennifer LevinePhilip ArnoldCrystal GonzalesMr. Ian SmithLawrence JohnsonPeter JonesChristopher RamirezNicolas JohnsonStephanie RhodesSarah MillerScott CortezChristopher CarrollWilliam RodriguezWyatt HarrisJacob CarlsonJason PerryJoshua FoxJames PerkinsChristine SanfordSarah SnyderDana ChavezJose HansenMelissa Hunt MDFrank RiveraLeah BishopAudrey FieldsRenee Garcia MDAngela WallJose GoldenAndrew RichardsonCynthia McleanMelissa FordKelsey SmithHeidi MasonLaura JohnsonAmanda MooreRobert AndersonMichael RobbinsSamantha ScottJoseph WareMaria DavisKenneth WatkinsMrs. Lori Rogers MDFrank BlackwellMichele TorresJason FergusonWilliam DurhamNicole HaynesCraig MorganEvan WilsonKenneth OlsonSeth GreenRoberto EscobarJustin SchneiderSarah PadillaAshley GardnerCourtney LutzAlbert SheaJennifer McguireJoseph RamosVictoria BakerClaudia WoodScott HughesCassandra HaasKathryn HannaDiana PhelpsKari HuangSara WellsJordan PetersonFrederick RochaKathryn YoungBrittany HodgesSherry GutierrezJohn GrantBenjamin RoweChelsey VillanuevaAlexandra MccarthyRhonda GarciaJon MatthewsKristen HartmanLynn RivasBrandy WestCarmen ThomasThomas LarsonKathryn CoxTasha ButlerChristopher ThompsonCollin ThomasJulia GeorgeChristopher ShermanAmy BooneJames JensenMonica BerryJonathan MckenzieMrs. Christina Mitchell DDSKatherine BrownJordan BrownElizabeth BrownColton KelleyMelanie KentElizabeth VargasNathan RomanAngela JonesAngela LopezBrian ThomasDouglas HawkinsIan GallagherJeffrey GarrisonTeresa WilliamsJustin MillerJill BakerJessica MitchellJoseph GeorgeCandace FrankEric SotoEmily Duran MDRandall MyersTravis LopezElizabeth GonzalezBrian HoldenTodd Grant Jr.Reginald AlvaradoMark BryantDesiree ClarkJulia ChristianTerry FuentesChristina MartinOlivia RiceKristen NealTimothy BrayJennifer YoungSonya JuarezCharles AveryJohnny BanksJames SanchezScott ProctorJessica MoranRobert FernandezMeredith MckeeKathryn StanleyRichard PooleStephanie GarnerStacey ContrerasCheryl OsborneNathaniel JohnsonRandy LewisMichelle DavisJonathan YoungAngel JacksonMichael KennedyLisa PinedaJennifer MurrayKristopher MurphyRobert WagnerMichael HowellMeagan WhitneyChristopher DavisRhonda LynchTara MarshKeith AndersonAdriana SnyderMelanie MillsAllison JohnsonDebra HowardJustin MartinezDarius AtkinsonTimothy JacksonAlison SmithCatherine HortonAndrew TaylorHunter FitzpatrickSarah KirkKristina GarzaZachary ChavezMrs. Wendy HayesKenneth Santiago MDAnthony JenkinsTeresa LeonardJonathan AdamsDr. Matthew HernandezDouglas HamiltonIan WilliamsTroy ScottChristopher LambLouis Hodges DDSRonald MartinezMonica CochranHarry SnowAmanda ColeJustin LeeSamantha CooperChristopher SmithDiane BradfordJeanette YoungLarry MonroeBradley MurphyNina ThomasMr. Michael GrahamDaniel OlsonAndrew HerreraMichelle FoxMike HillErika LoganJulia HowellWilliam BradleyElizabeth ParkAnthony SmithDonald ReevesJordan WardJeanne Fischer MDWilliam HinesJason SullivanMrs. Amanda RoseRobert HinesKimberly CollinsVeronica McmillanTeresa PerezMatthew McdonaldJason HuntRichard LevinePatricia PerryJohnny SchneiderJessica SmithAlan BurnettBobby NobleCatherine HarrisValerie ObrienRebecca Salazar DDSChristopher NelsonDiana PonceKenneth RaymondRay HoffmanMary GarzaRobert DiazMarie StanleyAmanda SolomonScott BrewerKathy BrightKristen CrossAbigail YoungMichael CooperDavid DavisSteven MyersNancy RossMark EverettSteve WalkerJonathan ByrdNicholas DiazStacy DavisAngela TownsendRichard Cherry DDSTimothy GriffinJames Holland MDNicholas TannerDavid DavisDaniel MartinezLauren CampbellTimothy GomezRobert LandryJamie BaileyKenneth AlexanderMatthew GarciaTanya HawkinsJacob PorterDr. Patricia BakerRebecca FloydMark JordanBryan MayerJenna DickersonMary EatonCynthia GeorgeKathy BurgessBrett JenningsFrank RobersonBrandon GardnerKim LewisEdward MunozDr. Rachel GilbertDonna RiddleChristopher TateMichael DavisLouis McdanielNicole BurgessDavid JensenNicole GoodwinChristopher WelchJared LynchNicole BuckDavid GutierrezStephanie HarrisonWilliam PetersonMolly MasonAlbert WrightJoshua FernandezKendra WardEarl CaldwellShane MartinezElizabeth JohnsonMelissa ParksJennifer PettyMichael LeeAustin MooreDustin MossKristine WadeJeffrey DavisLisa VasquezKenneth Avila Jr.Sergio MayDavid RichardsonAndrew PierceChristian MuellerDavid WoodRobin BrownTimothy HillSteven WebsterHenry RamirezMichael RomeroJody HunterCaitlyn SmithDesiree CastroMelanie EsparzaHolly McphersonZachary RiveraChristine HillBrandon FlowersMichael TuckerMisty HatfieldChristine BurtonJames SmithTracy SteinCharles HoltAmy BrownSummer HuntTodd WilliamsSteven NelsonMelissa TranShelby RodriguezBrian MoralesJennifer HuangElizabeth MunozSteven NewtonRobyn HernandezNicholas JonesCurtis LeeDr. Andrea RoseWendy PetersonJennifer HernandezCorey BerryNicole WilliamsRita ReynoldsSara OwensEvan MooreSarah BryantGail CampbellDylan FrancoLindsey NobleMatthew JacksonMorgan ThomasElizabeth ChaseErnest BarnesRichard SheltonKaren BridgesCynthia StoneKristin SloanJennifer CunninghamRebecca ChapmanStacey TerryJohn ShawMr. Eric GordonAmber DiazRachel KellyAshley WalterDaniel HaleyRobert HendrixDonna HolmesKenneth HowardDonald MillsMichael ScottThomas SandersTeresa SullivanBriana LucasKyle RobertsSheri ThomasJordan PattersonDeborah RollinsAllison WhiteTimothy StewartAmanda NelsonSydney KimThomas HinesMichael FoleyAnthony WadeRobert PerezWendy FinleySabrina RasmussenBilly Franco PhDJason FlemingMaxwell LeonardJonathan CooperRandy BlakeMatthew MillsTracy EspinozaBrandy KellerAnita ScottDiana BradleyJohn GonzalezAngela SimpsonHannah HicksCody WilcoxShane DavisThomas WallsDr. Alexander Chang PhDMr. Robert HendricksKimberly JonesMichele MooreLaura MillerJennifer GonzalezVanessa GarciaGerald KimWendy ShepardHarold PetersonEddie WilliamsShawn ObrienRobert HaneyKathryn GonzalesAmy RiceHannah BruceMichele TerryJennifer JohnsonDavid WrightCarlos SmithErnest WongWilliam PottsMark JeffersonNicole RollinsJohn QuinnAndrew ReidKristen KingMatthew WilsonArthur LeeLori WilliamsDaniel GarciaMs. Stephanie Schwartz DDSLoretta PerezRandall BanksAdrian DavisDebra SmithMary LawsonWhitney EstesMorgan AllenSteven HansonAustin KellyGrace HarrisonJose SchmittNatasha DaviesLawrence ZhangMichael BoydBarbara AndersonShannon BlairCarolyn HawkinsCharles MorrisDerrick CarrollCynthia MartinezJesus BooneRebecca JohnsonAndrew AllisonMadeline MonroeCristina HobbsLindsey NavarroMichael NielsenJason BrownBreanna MooreDonald MartinezAbigail EspinozaAdam GriffinKarla McneilRebecca KnappAlicia JohnsonGabriel ArroyoEdward EdwardsDaniel JohnsonKevin LongDr. Devin Sharp PhDKenneth AriasShannon TateKrystal MarshallAlexander McculloughRichard SmithMeagan BakerDavid FullerChad SmithRichard ReyesMadison WagnerWilliam BowenAnthony AlvaradoBrittney Hammond DVMBrandon BrownKristopher WrightMark WarrenElizabeth FrazierMark BaileyChristopher MontgomeryElizabeth WallerLouis WoodsBrandy MitchellRoger KingTara DouglasMelissa OwensDavid GonzalezTodd WilliamsNathaniel OconnellTravis GreenLuke FryDouglas WoodsChristopher SilvaJacob TerryNancy HarrisonMichael SullivanMiss Norma McfarlandLaurie DoughertyJoshua TaylorAndrew CampbellHeather BellBradley MartinezAmy LeeDavid GoodAaron NelsonRobert TylerJaclyn WilliamsJoe KochDerek LopezAngela BryantWalter MaxwellDennis KleinNancy NelsonJason DrakeMary AcevedoDakota AdamsDaryl GregoryKathleen LoveJames ChavezDawn LewisEric ThompsonBrittany EdwardsCharles BaileyGina SimsJohn McdanielHeather ScottChristine GarciaTracy LoweryJay RobertsBrandon OrtizElizabeth EllisonPatricia WoodTroy MorganAdriana WallEric LewisRobert DukeCarol TorresRobert HooperMandy HensleyKayla PetersenReginald MolinaTasha GrayDawn ChristensenMarcus WilsonJason RodriguezKimberly FisherMichael JohnsonPatricia VillanuevaDavid TorresHeather RobinsonKathryn BernardDebbie TurnerKayla BurtonAmanda BatesKathleen KnoxMr. Colton Collins IIJamie MasonDwayne SmithCynthia CastilloBrandon WilliamsCrystal MaldonadoHaley GreenKimberly PorterElizabeth CarrilloJames HowellAnthony WelchTammie RogersSteven LeSharon PadillaJonathan GardnerJulie DavisStacie HollandDiana GarrettJessica SchmidtMallory GravesKerry HendersonBrandon VaughnAnita WilsonNancy SmithAshley LopezMichael ParkMr. Mason Hernandez MDCindy PowellKayla ScottKimberly JohnstonAnn FloresBrittney AdamsPatricia MillerJonathan GallowayVeronica GriffithMichelle RamosJoe NunezKathy BushEmily HessChase HortonBrittany CarrCharles GonzalezThomas AlvarezJason OrtizRhonda FergusonBrenda DixonKenneth BrooksTyler SmithAlison AndersonBethany HarveyNicholas CostaRyan AllenGabriel Ashley' to numeric",
      "\nThe above exception was the direct cause of the following exception:\n",
      "\u001b[0;31mTypeError\u001b[0m                                 Traceback (most recent call last)",
      "Cell \u001b[0;32mIn[43], line 9\u001b[0m\n\u001b[1;32m      5\u001b[0m twelfth_graders \u001b[38;5;241m=\u001b[39m school_data_complete[(school_data_complete[\u001b[38;5;124m\"\u001b[39m\u001b[38;5;124mgrade\u001b[39m\u001b[38;5;124m\"\u001b[39m] \u001b[38;5;241m==\u001b[39m \u001b[38;5;124m\"\u001b[39m\u001b[38;5;124m12th\u001b[39m\u001b[38;5;124m\"\u001b[39m)]\n\u001b[1;32m      7\u001b[0m \u001b[38;5;66;03m# Group by \"school_name\" and take the mean of math scores for each grade\u001b[39;00m\n\u001b[1;32m      8\u001b[0m     \u001b[38;5;66;03m# Note: There is no overall scores so selecting math scores directly for calculation\u001b[39;00m\n\u001b[0;32m----> 9\u001b[0m ninth_graders_math_scores \u001b[38;5;241m=\u001b[39m \u001b[43mninth_graders\u001b[49m\u001b[38;5;241;43m.\u001b[39;49m\u001b[43mgroupby\u001b[49m\u001b[43m(\u001b[49m\u001b[43m[\u001b[49m\u001b[38;5;124;43m\"\u001b[39;49m\u001b[38;5;124;43mschool_name\u001b[39;49m\u001b[38;5;124;43m\"\u001b[39;49m\u001b[43m]\u001b[49m\u001b[43m)\u001b[49m\u001b[38;5;241;43m.\u001b[39;49m\u001b[43mmean\u001b[49m\u001b[43m(\u001b[49m\u001b[43m)\u001b[49m[\u001b[38;5;124m\"\u001b[39m\u001b[38;5;124mmath_score\u001b[39m\u001b[38;5;124m\"\u001b[39m]\n\u001b[1;32m     10\u001b[0m tenth_graders_math_scores \u001b[38;5;241m=\u001b[39m tenth_graders\u001b[38;5;241m.\u001b[39mgroupby([\u001b[38;5;124m\"\u001b[39m\u001b[38;5;124mschool_name\u001b[39m\u001b[38;5;124m\"\u001b[39m])\u001b[38;5;241m.\u001b[39mmean()[\u001b[38;5;124m\"\u001b[39m\u001b[38;5;124mmath_score\u001b[39m\u001b[38;5;124m\"\u001b[39m]\n\u001b[1;32m     11\u001b[0m eleventh_graders_math_scores \u001b[38;5;241m=\u001b[39m eleventh_graders\u001b[38;5;241m.\u001b[39mgroupby([\u001b[38;5;124m\"\u001b[39m\u001b[38;5;124mschool_name\u001b[39m\u001b[38;5;124m\"\u001b[39m])\u001b[38;5;241m.\u001b[39mmean()[\u001b[38;5;124m\"\u001b[39m\u001b[38;5;124mmath_score\u001b[39m\u001b[38;5;124m\"\u001b[39m]\n",
      "File \u001b[0;32m/opt/anaconda3/envs/dev/lib/python3.10/site-packages/pandas/core/groupby/groupby.py:2452\u001b[0m, in \u001b[0;36mGroupBy.mean\u001b[0;34m(self, numeric_only, engine, engine_kwargs)\u001b[0m\n\u001b[1;32m   2445\u001b[0m     \u001b[38;5;28;01mreturn\u001b[39;00m \u001b[38;5;28mself\u001b[39m\u001b[38;5;241m.\u001b[39m_numba_agg_general(\n\u001b[1;32m   2446\u001b[0m         grouped_mean,\n\u001b[1;32m   2447\u001b[0m         executor\u001b[38;5;241m.\u001b[39mfloat_dtype_mapping,\n\u001b[1;32m   2448\u001b[0m         engine_kwargs,\n\u001b[1;32m   2449\u001b[0m         min_periods\u001b[38;5;241m=\u001b[39m\u001b[38;5;241m0\u001b[39m,\n\u001b[1;32m   2450\u001b[0m     )\n\u001b[1;32m   2451\u001b[0m \u001b[38;5;28;01melse\u001b[39;00m:\n\u001b[0;32m-> 2452\u001b[0m     result \u001b[38;5;241m=\u001b[39m \u001b[38;5;28;43mself\u001b[39;49m\u001b[38;5;241;43m.\u001b[39;49m\u001b[43m_cython_agg_general\u001b[49m\u001b[43m(\u001b[49m\n\u001b[1;32m   2453\u001b[0m \u001b[43m        \u001b[49m\u001b[38;5;124;43m\"\u001b[39;49m\u001b[38;5;124;43mmean\u001b[39;49m\u001b[38;5;124;43m\"\u001b[39;49m\u001b[43m,\u001b[49m\n\u001b[1;32m   2454\u001b[0m \u001b[43m        \u001b[49m\u001b[43malt\u001b[49m\u001b[38;5;241;43m=\u001b[39;49m\u001b[38;5;28;43;01mlambda\u001b[39;49;00m\u001b[43m \u001b[49m\u001b[43mx\u001b[49m\u001b[43m:\u001b[49m\u001b[43m \u001b[49m\u001b[43mSeries\u001b[49m\u001b[43m(\u001b[49m\u001b[43mx\u001b[49m\u001b[43m,\u001b[49m\u001b[43m \u001b[49m\u001b[43mcopy\u001b[49m\u001b[38;5;241;43m=\u001b[39;49m\u001b[38;5;28;43;01mFalse\u001b[39;49;00m\u001b[43m)\u001b[49m\u001b[38;5;241;43m.\u001b[39;49m\u001b[43mmean\u001b[49m\u001b[43m(\u001b[49m\u001b[43mnumeric_only\u001b[49m\u001b[38;5;241;43m=\u001b[39;49m\u001b[43mnumeric_only\u001b[49m\u001b[43m)\u001b[49m\u001b[43m,\u001b[49m\n\u001b[1;32m   2455\u001b[0m \u001b[43m        \u001b[49m\u001b[43mnumeric_only\u001b[49m\u001b[38;5;241;43m=\u001b[39;49m\u001b[43mnumeric_only\u001b[49m\u001b[43m,\u001b[49m\n\u001b[1;32m   2456\u001b[0m \u001b[43m    \u001b[49m\u001b[43m)\u001b[49m\n\u001b[1;32m   2457\u001b[0m     \u001b[38;5;28;01mreturn\u001b[39;00m result\u001b[38;5;241m.\u001b[39m__finalize__(\u001b[38;5;28mself\u001b[39m\u001b[38;5;241m.\u001b[39mobj, method\u001b[38;5;241m=\u001b[39m\u001b[38;5;124m\"\u001b[39m\u001b[38;5;124mgroupby\u001b[39m\u001b[38;5;124m\"\u001b[39m)\n",
      "File \u001b[0;32m/opt/anaconda3/envs/dev/lib/python3.10/site-packages/pandas/core/groupby/groupby.py:1998\u001b[0m, in \u001b[0;36mGroupBy._cython_agg_general\u001b[0;34m(self, how, alt, numeric_only, min_count, **kwargs)\u001b[0m\n\u001b[1;32m   1995\u001b[0m     result \u001b[38;5;241m=\u001b[39m \u001b[38;5;28mself\u001b[39m\u001b[38;5;241m.\u001b[39m_agg_py_fallback(how, values, ndim\u001b[38;5;241m=\u001b[39mdata\u001b[38;5;241m.\u001b[39mndim, alt\u001b[38;5;241m=\u001b[39malt)\n\u001b[1;32m   1996\u001b[0m     \u001b[38;5;28;01mreturn\u001b[39;00m result\n\u001b[0;32m-> 1998\u001b[0m new_mgr \u001b[38;5;241m=\u001b[39m \u001b[43mdata\u001b[49m\u001b[38;5;241;43m.\u001b[39;49m\u001b[43mgrouped_reduce\u001b[49m\u001b[43m(\u001b[49m\u001b[43marray_func\u001b[49m\u001b[43m)\u001b[49m\n\u001b[1;32m   1999\u001b[0m res \u001b[38;5;241m=\u001b[39m \u001b[38;5;28mself\u001b[39m\u001b[38;5;241m.\u001b[39m_wrap_agged_manager(new_mgr)\n\u001b[1;32m   2000\u001b[0m \u001b[38;5;28;01mif\u001b[39;00m how \u001b[38;5;129;01min\u001b[39;00m [\u001b[38;5;124m\"\u001b[39m\u001b[38;5;124midxmin\u001b[39m\u001b[38;5;124m\"\u001b[39m, \u001b[38;5;124m\"\u001b[39m\u001b[38;5;124midxmax\u001b[39m\u001b[38;5;124m\"\u001b[39m]:\n",
      "File \u001b[0;32m/opt/anaconda3/envs/dev/lib/python3.10/site-packages/pandas/core/internals/managers.py:1469\u001b[0m, in \u001b[0;36mBlockManager.grouped_reduce\u001b[0;34m(self, func)\u001b[0m\n\u001b[1;32m   1465\u001b[0m \u001b[38;5;28;01mif\u001b[39;00m blk\u001b[38;5;241m.\u001b[39mis_object:\n\u001b[1;32m   1466\u001b[0m     \u001b[38;5;66;03m# split on object-dtype blocks bc some columns may raise\u001b[39;00m\n\u001b[1;32m   1467\u001b[0m     \u001b[38;5;66;03m#  while others do not.\u001b[39;00m\n\u001b[1;32m   1468\u001b[0m     \u001b[38;5;28;01mfor\u001b[39;00m sb \u001b[38;5;129;01min\u001b[39;00m blk\u001b[38;5;241m.\u001b[39m_split():\n\u001b[0;32m-> 1469\u001b[0m         applied \u001b[38;5;241m=\u001b[39m \u001b[43msb\u001b[49m\u001b[38;5;241;43m.\u001b[39;49m\u001b[43mapply\u001b[49m\u001b[43m(\u001b[49m\u001b[43mfunc\u001b[49m\u001b[43m)\u001b[49m\n\u001b[1;32m   1470\u001b[0m         result_blocks \u001b[38;5;241m=\u001b[39m extend_blocks(applied, result_blocks)\n\u001b[1;32m   1471\u001b[0m \u001b[38;5;28;01melse\u001b[39;00m:\n",
      "File \u001b[0;32m/opt/anaconda3/envs/dev/lib/python3.10/site-packages/pandas/core/internals/blocks.py:393\u001b[0m, in \u001b[0;36mBlock.apply\u001b[0;34m(self, func, **kwargs)\u001b[0m\n\u001b[1;32m    387\u001b[0m \u001b[38;5;129m@final\u001b[39m\n\u001b[1;32m    388\u001b[0m \u001b[38;5;28;01mdef\u001b[39;00m \u001b[38;5;21mapply\u001b[39m(\u001b[38;5;28mself\u001b[39m, func, \u001b[38;5;241m*\u001b[39m\u001b[38;5;241m*\u001b[39mkwargs) \u001b[38;5;241m-\u001b[39m\u001b[38;5;241m>\u001b[39m \u001b[38;5;28mlist\u001b[39m[Block]:\n\u001b[1;32m    389\u001b[0m \u001b[38;5;250m    \u001b[39m\u001b[38;5;124;03m\"\"\"\u001b[39;00m\n\u001b[1;32m    390\u001b[0m \u001b[38;5;124;03m    apply the function to my values; return a block if we are not\u001b[39;00m\n\u001b[1;32m    391\u001b[0m \u001b[38;5;124;03m    one\u001b[39;00m\n\u001b[1;32m    392\u001b[0m \u001b[38;5;124;03m    \"\"\"\u001b[39;00m\n\u001b[0;32m--> 393\u001b[0m     result \u001b[38;5;241m=\u001b[39m \u001b[43mfunc\u001b[49m\u001b[43m(\u001b[49m\u001b[38;5;28;43mself\u001b[39;49m\u001b[38;5;241;43m.\u001b[39;49m\u001b[43mvalues\u001b[49m\u001b[43m,\u001b[49m\u001b[43m \u001b[49m\u001b[38;5;241;43m*\u001b[39;49m\u001b[38;5;241;43m*\u001b[39;49m\u001b[43mkwargs\u001b[49m\u001b[43m)\u001b[49m\n\u001b[1;32m    395\u001b[0m     result \u001b[38;5;241m=\u001b[39m maybe_coerce_values(result)\n\u001b[1;32m    396\u001b[0m     \u001b[38;5;28;01mreturn\u001b[39;00m \u001b[38;5;28mself\u001b[39m\u001b[38;5;241m.\u001b[39m_split_op_result(result)\n",
      "File \u001b[0;32m/opt/anaconda3/envs/dev/lib/python3.10/site-packages/pandas/core/groupby/groupby.py:1995\u001b[0m, in \u001b[0;36mGroupBy._cython_agg_general.<locals>.array_func\u001b[0;34m(values)\u001b[0m\n\u001b[1;32m   1992\u001b[0m     \u001b[38;5;28;01mreturn\u001b[39;00m result\n\u001b[1;32m   1994\u001b[0m \u001b[38;5;28;01massert\u001b[39;00m alt \u001b[38;5;129;01mis\u001b[39;00m \u001b[38;5;129;01mnot\u001b[39;00m \u001b[38;5;28;01mNone\u001b[39;00m\n\u001b[0;32m-> 1995\u001b[0m result \u001b[38;5;241m=\u001b[39m \u001b[38;5;28;43mself\u001b[39;49m\u001b[38;5;241;43m.\u001b[39;49m\u001b[43m_agg_py_fallback\u001b[49m\u001b[43m(\u001b[49m\u001b[43mhow\u001b[49m\u001b[43m,\u001b[49m\u001b[43m \u001b[49m\u001b[43mvalues\u001b[49m\u001b[43m,\u001b[49m\u001b[43m \u001b[49m\u001b[43mndim\u001b[49m\u001b[38;5;241;43m=\u001b[39;49m\u001b[43mdata\u001b[49m\u001b[38;5;241;43m.\u001b[39;49m\u001b[43mndim\u001b[49m\u001b[43m,\u001b[49m\u001b[43m \u001b[49m\u001b[43malt\u001b[49m\u001b[38;5;241;43m=\u001b[39;49m\u001b[43malt\u001b[49m\u001b[43m)\u001b[49m\n\u001b[1;32m   1996\u001b[0m \u001b[38;5;28;01mreturn\u001b[39;00m result\n",
      "File \u001b[0;32m/opt/anaconda3/envs/dev/lib/python3.10/site-packages/pandas/core/groupby/groupby.py:1946\u001b[0m, in \u001b[0;36mGroupBy._agg_py_fallback\u001b[0;34m(self, how, values, ndim, alt)\u001b[0m\n\u001b[1;32m   1944\u001b[0m     msg \u001b[38;5;241m=\u001b[39m \u001b[38;5;124mf\u001b[39m\u001b[38;5;124m\"\u001b[39m\u001b[38;5;124magg function failed [how->\u001b[39m\u001b[38;5;132;01m{\u001b[39;00mhow\u001b[38;5;132;01m}\u001b[39;00m\u001b[38;5;124m,dtype->\u001b[39m\u001b[38;5;132;01m{\u001b[39;00mser\u001b[38;5;241m.\u001b[39mdtype\u001b[38;5;132;01m}\u001b[39;00m\u001b[38;5;124m]\u001b[39m\u001b[38;5;124m\"\u001b[39m\n\u001b[1;32m   1945\u001b[0m     \u001b[38;5;66;03m# preserve the kind of exception that raised\u001b[39;00m\n\u001b[0;32m-> 1946\u001b[0m     \u001b[38;5;28;01mraise\u001b[39;00m \u001b[38;5;28mtype\u001b[39m(err)(msg) \u001b[38;5;28;01mfrom\u001b[39;00m \u001b[38;5;21;01merr\u001b[39;00m\n\u001b[1;32m   1948\u001b[0m \u001b[38;5;28;01mif\u001b[39;00m ser\u001b[38;5;241m.\u001b[39mdtype \u001b[38;5;241m==\u001b[39m \u001b[38;5;28mobject\u001b[39m:\n\u001b[1;32m   1949\u001b[0m     res_values \u001b[38;5;241m=\u001b[39m res_values\u001b[38;5;241m.\u001b[39mastype(\u001b[38;5;28mobject\u001b[39m, copy\u001b[38;5;241m=\u001b[39m\u001b[38;5;28;01mFalse\u001b[39;00m)\n",
      "\u001b[0;31mTypeError\u001b[0m: agg function failed [how->mean,dtype->object]"
     ]
    }
   ],
   "source": [
    "# Use the code provided to separate the data by grade\n",
    "ninth_graders = school_data_complete[(school_data_complete[\"grade\"] == \"9th\")]\n",
    "tenth_graders = school_data_complete[(school_data_complete[\"grade\"] == \"10th\")]\n",
    "eleventh_graders = school_data_complete[(school_data_complete[\"grade\"] == \"11th\")]\n",
    "twelfth_graders = school_data_complete[(school_data_complete[\"grade\"] == \"12th\")]\n",
    "\n",
    "# Group by \"school_name\" and take the mean of math scores for each grade\n",
    "    # Note: There is no overall scores so selecting math scores directly for calculation\n",
    "ninth_graders_math_scores = ninth_graders.groupby([\"school_name\"]).mean()[\"math_score\"]\n",
    "tenth_graders_math_scores = tenth_graders.groupby([\"school_name\"]).mean()[\"math_score\"]\n",
    "eleventh_graders_math_scores = eleventh_graders.groupby([\"school_name\"]).mean()[\"math_score\"]\n",
    "twelfth_graders_math_scores = twelfth_graders.groupby([\"school_name\"]).mean()[\"math_score\"]\n",
    "\n",
    "# Combine each of the scores above into single DataFrame called `math_scores_by_grade`\n",
    "math_scores_by_grade = pd.DataFrame ({\"9th\" : ninth_graders_math_scores, \n",
    "                                      \"10th\" : tenth_graders_math_scores,\n",
    "                                      \"11th\" : eleventh_graders_math_scores,\n",
    "                                      \"12th\" : twelfth_graders_math_scores})\n",
    "\n",
    "# Minor data wrangling\n",
    "math_scores_by_grade.index.name = None\n",
    "\n",
    "# Display the DataFrame\n",
    "math_scores_by_grade\n"
   ]
  },
  {
   "cell_type": "markdown",
   "metadata": {},
   "source": [
    "## Reading Score by Grade "
   ]
  },
  {
   "cell_type": "code",
   "execution_count": 44,
   "metadata": {},
   "outputs": [
    {
     "ename": "NameError",
     "evalue": "name 'ninth_graders_reading_scores' is not defined",
     "output_type": "error",
     "traceback": [
      "\u001b[0;31m---------------------------------------------------------------------------\u001b[0m",
      "\u001b[0;31mNameError\u001b[0m                                 Traceback (most recent call last)",
      "Cell \u001b[0;32mIn[44], line 15\u001b[0m\n\u001b[1;32m      5\u001b[0m twelfth_graders \u001b[38;5;241m=\u001b[39m school_data_complete[(school_data_complete[\u001b[38;5;124m\"\u001b[39m\u001b[38;5;124mgrade\u001b[39m\u001b[38;5;124m\"\u001b[39m] \u001b[38;5;241m==\u001b[39m \u001b[38;5;124m\"\u001b[39m\u001b[38;5;124m12th\u001b[39m\u001b[38;5;124m\"\u001b[39m)]\n\u001b[1;32m      7\u001b[0m \u001b[38;5;66;03m# Group by \"school_name\" and take the mean of reading scores for each grade\u001b[39;00m\n\u001b[1;32m      8\u001b[0m     \u001b[38;5;66;03m# Note: There is no overall scores so selecting reading scores directly for calculation\u001b[39;00m\n\u001b[1;32m      9\u001b[0m \u001b[38;5;66;03m#ninth_graders_reading_scores = ninth_graders.groupby([\"school_name\"]).mean()[\"reading_score\"]\u001b[39;00m\n\u001b[0;32m   (...)\u001b[0m\n\u001b[1;32m     13\u001b[0m \n\u001b[1;32m     14\u001b[0m \u001b[38;5;66;03m# Combine each of the scores above into single DataFrame called `reading_scores_by_grade`\u001b[39;00m\n\u001b[0;32m---> 15\u001b[0m reading_scores_by_grade \u001b[38;5;241m=\u001b[39m pd\u001b[38;5;241m.\u001b[39mDataFrame ({\u001b[38;5;124m\"\u001b[39m\u001b[38;5;124m9th\u001b[39m\u001b[38;5;124m\"\u001b[39m : \u001b[43mninth_graders_reading_scores\u001b[49m, \n\u001b[1;32m     16\u001b[0m                                       \u001b[38;5;124m\"\u001b[39m\u001b[38;5;124m10th\u001b[39m\u001b[38;5;124m\"\u001b[39m : tenth_graders_reading_scores,\n\u001b[1;32m     17\u001b[0m                                       \u001b[38;5;124m\"\u001b[39m\u001b[38;5;124m11th\u001b[39m\u001b[38;5;124m\"\u001b[39m : eleventh_graders_reading_scores,\n\u001b[1;32m     18\u001b[0m                                       \u001b[38;5;124m\"\u001b[39m\u001b[38;5;124m12th\u001b[39m\u001b[38;5;124m\"\u001b[39m : twelfth_graders_reading_scores})\n\u001b[1;32m     20\u001b[0m \u001b[38;5;66;03m# Minor data wrangling\u001b[39;00m\n\u001b[1;32m     21\u001b[0m reading_scores_by_grade \u001b[38;5;241m=\u001b[39m reading_scores_by_grade[[\u001b[38;5;124m\"\u001b[39m\u001b[38;5;124m9th\u001b[39m\u001b[38;5;124m\"\u001b[39m, \u001b[38;5;124m\"\u001b[39m\u001b[38;5;124m10th\u001b[39m\u001b[38;5;124m\"\u001b[39m, \u001b[38;5;124m\"\u001b[39m\u001b[38;5;124m11th\u001b[39m\u001b[38;5;124m\"\u001b[39m, \u001b[38;5;124m\"\u001b[39m\u001b[38;5;124m12th\u001b[39m\u001b[38;5;124m\"\u001b[39m]]\n",
      "\u001b[0;31mNameError\u001b[0m: name 'ninth_graders_reading_scores' is not defined"
     ]
    }
   ],
   "source": [
    "# Use the code provided to separate the data by grade\n",
    "ninth_graders = school_data_complete[(school_data_complete[\"grade\"] == \"9th\")]\n",
    "tenth_graders = school_data_complete[(school_data_complete[\"grade\"] == \"10th\")]\n",
    "eleventh_graders = school_data_complete[(school_data_complete[\"grade\"] == \"11th\")]\n",
    "twelfth_graders = school_data_complete[(school_data_complete[\"grade\"] == \"12th\")]\n",
    "\n",
    "# Group by \"school_name\" and take the mean of reading scores for each grade\n",
    "    # Note: There is no overall scores so selecting reading scores directly for calculation\n",
    "#ninth_graders_reading_scores = ninth_graders.groupby([\"school_name\"]).mean()[\"reading_score\"]\n",
    "#tenth_graders_reading_scores = tenth_graders.groupby([\"school_name\"]).mean()[\"reading_score\"]\n",
    "#eleventh_graders_reading_scores = eleventh_graders.groupby([\"school_name\"]).mean()[\"reading_score\"]\n",
    "#twelfth_graders_reading_scores = twelfth_graders.groupby([\"school_name\"]).mean()[\"reading_score\"]\n",
    "\n",
    "# Combine each of the scores above into single DataFrame called `reading_scores_by_grade`\n",
    "reading_scores_by_grade = pd.DataFrame ({\"9th\" : ninth_graders_reading_scores, \n",
    "                                      \"10th\" : tenth_graders_reading_scores,\n",
    "                                      \"11th\" : eleventh_graders_reading_scores,\n",
    "                                      \"12th\" : twelfth_graders_reading_scores})\n",
    "\n",
    "# Minor data wrangling\n",
    "reading_scores_by_grade = reading_scores_by_grade[[\"9th\", \"10th\", \"11th\", \"12th\"]]\n",
    "reading_scores_by_grade.index.name = None\n",
    "\n",
    "# Display the DataFrame\n",
    "reading_scores_by_grade\n"
   ]
  },
  {
   "cell_type": "markdown",
   "metadata": {},
   "source": [
    "## Scores by School Spending"
   ]
  },
  {
   "cell_type": "code",
   "execution_count": 45,
   "metadata": {},
   "outputs": [],
   "source": [
    "# Establish the bins\n",
    "spending_bins = [0, 585, 630, 645, 680]\n",
    "labels = [\"<$585\", \"$585-630\", \"$630-645\", \"$645-680\"]\n"
   ]
  },
  {
   "cell_type": "code",
   "execution_count": 46,
   "metadata": {},
   "outputs": [
    {
     "ename": "NameError",
     "evalue": "name 'per_school_summary' is not defined",
     "output_type": "error",
     "traceback": [
      "\u001b[0;31m---------------------------------------------------------------------------\u001b[0m",
      "\u001b[0;31mNameError\u001b[0m                                 Traceback (most recent call last)",
      "Cell \u001b[0;32mIn[46], line 2\u001b[0m\n\u001b[1;32m      1\u001b[0m \u001b[38;5;66;03m# Create a copy of the school summary since it has the \"Per Student Budget\"\u001b[39;00m\n\u001b[0;32m----> 2\u001b[0m school_spending_df \u001b[38;5;241m=\u001b[39m \u001b[43mper_school_summary\u001b[49m\u001b[38;5;241m.\u001b[39mcopy()\n",
      "\u001b[0;31mNameError\u001b[0m: name 'per_school_summary' is not defined"
     ]
    }
   ],
   "source": [
    "# Create a copy of the school summary since it has the \"Per Student Budget\"\n",
    "school_spending_df = per_school_summary.copy()\n"
   ]
  },
  {
   "cell_type": "code",
   "execution_count": 47,
   "metadata": {},
   "outputs": [
    {
     "ename": "NameError",
     "evalue": "name 'school_spending_df' is not defined",
     "output_type": "error",
     "traceback": [
      "\u001b[0;31m---------------------------------------------------------------------------\u001b[0m",
      "\u001b[0;31mNameError\u001b[0m                                 Traceback (most recent call last)",
      "Cell \u001b[0;32mIn[47], line 2\u001b[0m\n\u001b[1;32m      1\u001b[0m \u001b[38;5;66;03m# Use `pd.cut` to categorize spending based on the bins.\u001b[39;00m\n\u001b[0;32m----> 2\u001b[0m school_spending_df[\u001b[38;5;124m\"\u001b[39m\u001b[38;5;124mSpending Ranges (Per Student)\u001b[39m\u001b[38;5;124m\"\u001b[39m] \u001b[38;5;241m=\u001b[39m pd\u001b[38;5;241m.\u001b[39mcut(\u001b[43mschool_spending_df\u001b[49m[\u001b[38;5;124m\"\u001b[39m\u001b[38;5;124mPer Student Budget\u001b[39m\u001b[38;5;124m\"\u001b[39m], \n\u001b[1;32m      3\u001b[0m                                                                                 spending_bins, labels\u001b[38;5;241m=\u001b[39mspending_labels)\n\u001b[1;32m      4\u001b[0m school_spending_df\u001b[38;5;241m.\u001b[39mhead(\u001b[38;5;241m3\u001b[39m)\n",
      "\u001b[0;31mNameError\u001b[0m: name 'school_spending_df' is not defined"
     ]
    }
   ],
   "source": [
    "# Use `pd.cut` to categorize spending based on the bins.\n",
    "school_spending_df[\"Spending Ranges (Per Student)\"] = pd.cut(school_spending_df[\"Per Student Budget\"], \n",
    "                                                                                spending_bins, labels=spending_labels)\n",
    "school_spending_df.head(3)"
   ]
  },
  {
   "cell_type": "code",
   "execution_count": 48,
   "metadata": {},
   "outputs": [
    {
     "ename": "NameError",
     "evalue": "name 'school_spending_df' is not defined",
     "output_type": "error",
     "traceback": [
      "\u001b[0;31m---------------------------------------------------------------------------\u001b[0m",
      "\u001b[0;31mNameError\u001b[0m                                 Traceback (most recent call last)",
      "Cell \u001b[0;32mIn[48], line 2\u001b[0m\n\u001b[1;32m      1\u001b[0m \u001b[38;5;66;03m#  Calculate averages for the desired columns.\u001b[39;00m\n\u001b[0;32m----> 2\u001b[0m spending_math_scores \u001b[38;5;241m=\u001b[39m \u001b[43mschool_spending_df\u001b[49m\u001b[38;5;241m.\u001b[39mgroupby([\u001b[38;5;124m\"\u001b[39m\u001b[38;5;124mSpending Ranges (Per Student)\u001b[39m\u001b[38;5;124m\"\u001b[39m])[\u001b[38;5;124m\"\u001b[39m\u001b[38;5;124mAverage Math Score\u001b[39m\u001b[38;5;124m\"\u001b[39m]\u001b[38;5;241m.\u001b[39mmean()\n\u001b[1;32m      3\u001b[0m spending_reading_scores \u001b[38;5;241m=\u001b[39m school_spending_df\u001b[38;5;241m.\u001b[39mgroupby([\u001b[38;5;124m\"\u001b[39m\u001b[38;5;124mSpending Ranges (Per Student)\u001b[39m\u001b[38;5;124m\"\u001b[39m])[\u001b[38;5;124m\"\u001b[39m\u001b[38;5;124mAverage Reading Score\u001b[39m\u001b[38;5;124m\"\u001b[39m]\u001b[38;5;241m.\u001b[39mmean()\n\u001b[1;32m      4\u001b[0m spending_passing_math \u001b[38;5;241m=\u001b[39m school_spending_df\u001b[38;5;241m.\u001b[39mgroupby([\u001b[38;5;124m\"\u001b[39m\u001b[38;5;124mSpending Ranges (Per Student)\u001b[39m\u001b[38;5;124m\"\u001b[39m])[\u001b[38;5;124m\"\u001b[39m\u001b[38;5;124m%\u001b[39m\u001b[38;5;124m Passing Math\u001b[39m\u001b[38;5;124m\"\u001b[39m]\u001b[38;5;241m.\u001b[39mmean()\n",
      "\u001b[0;31mNameError\u001b[0m: name 'school_spending_df' is not defined"
     ]
    }
   ],
   "source": [
    "#  Calculate averages for the desired columns.\n",
    "spending_math_scores = school_spending_df.groupby([\"Spending Ranges (Per Student)\"])[\"Average Math Score\"].mean()\n",
    "spending_reading_scores = school_spending_df.groupby([\"Spending Ranges (Per Student)\"])[\"Average Reading Score\"].mean()\n",
    "spending_passing_math = school_spending_df.groupby([\"Spending Ranges (Per Student)\"])[\"% Passing Math\"].mean()\n",
    "spending_passing_reading = school_spending_df.groupby([\"Spending Ranges (Per Student)\"])[\"% Passing Reading\"].mean()\n",
    "overall_passing_spending = school_spending_df.groupby([\"Spending Ranges (Per Student)\"])[\"% Overall Passing\"].mean()\n"
   ]
  },
  {
   "cell_type": "code",
   "execution_count": 49,
   "metadata": {},
   "outputs": [
    {
     "ename": "NameError",
     "evalue": "name 'spending_math_scores' is not defined",
     "output_type": "error",
     "traceback": [
      "\u001b[0;31m---------------------------------------------------------------------------\u001b[0m",
      "\u001b[0;31mNameError\u001b[0m                                 Traceback (most recent call last)",
      "Cell \u001b[0;32mIn[49], line 2\u001b[0m\n\u001b[1;32m      1\u001b[0m \u001b[38;5;66;03m# Assemble into DataFrame using the binned and average spending data\u001b[39;00m\n\u001b[0;32m----> 2\u001b[0m spending_summary \u001b[38;5;241m=\u001b[39m reading_scores_by_grade \u001b[38;5;241m=\u001b[39m pd\u001b[38;5;241m.\u001b[39mDataFrame ({\u001b[38;5;124m\"\u001b[39m\u001b[38;5;124mAverage Math Score\u001b[39m\u001b[38;5;124m\"\u001b[39m : \u001b[43mspending_math_scores\u001b[49m, \n\u001b[1;32m      3\u001b[0m                                                             \u001b[38;5;124m\"\u001b[39m\u001b[38;5;124mAverage Reading Score\u001b[39m\u001b[38;5;124m\"\u001b[39m : spending_reading_scores,\n\u001b[1;32m      4\u001b[0m                                                             \u001b[38;5;124m\"\u001b[39m\u001b[38;5;124m%\u001b[39m\u001b[38;5;124m Passing Math\u001b[39m\u001b[38;5;124m\"\u001b[39m : spending_passing_math,\n\u001b[1;32m      5\u001b[0m                                                             \u001b[38;5;124m\"\u001b[39m\u001b[38;5;124m%\u001b[39m\u001b[38;5;124m Passing Reading\u001b[39m\u001b[38;5;124m\"\u001b[39m : spending_passing_reading,\n\u001b[1;32m      6\u001b[0m                                                             \u001b[38;5;124m\"\u001b[39m\u001b[38;5;124m%\u001b[39m\u001b[38;5;124m Overall Passing\u001b[39m\u001b[38;5;124m\"\u001b[39m : overall_passing_spending})\n\u001b[1;32m      8\u001b[0m \u001b[38;5;66;03m# Display results\u001b[39;00m\n\u001b[1;32m      9\u001b[0m spending_summary\n",
      "\u001b[0;31mNameError\u001b[0m: name 'spending_math_scores' is not defined"
     ]
    }
   ],
   "source": [
    "# Assemble into DataFrame using the binned and average spending data\n",
    "spending_summary = reading_scores_by_grade = pd.DataFrame ({\"Average Math Score\" : spending_math_scores, \n",
    "                                                            \"Average Reading Score\" : spending_reading_scores,\n",
    "                                                            \"% Passing Math\" : spending_passing_math,\n",
    "                                                            \"% Passing Reading\" : spending_passing_reading,\n",
    "                                                            \"% Overall Passing\" : overall_passing_spending})\n",
    "\n",
    "# Display results\n",
    "spending_summary\n"
   ]
  },
  {
   "cell_type": "markdown",
   "metadata": {},
   "source": [
    "## Scores by School Size"
   ]
  },
  {
   "cell_type": "code",
   "execution_count": 50,
   "metadata": {},
   "outputs": [],
   "source": [
    "# Establish the bins.\n",
    "size_bins = [0, 1000, 2000, 5000]\n",
    "labels = [\"Small (<1000)\", \"Medium (1000-2000)\", \"Large (2000-5000)\"]\n"
   ]
  },
  {
   "cell_type": "code",
   "execution_count": 51,
   "metadata": {},
   "outputs": [
    {
     "ename": "NameError",
     "evalue": "name 'school_size_df' is not defined",
     "output_type": "error",
     "traceback": [
      "\u001b[0;31m---------------------------------------------------------------------------\u001b[0m",
      "\u001b[0;31mNameError\u001b[0m                                 Traceback (most recent call last)",
      "Cell \u001b[0;32mIn[51], line 3\u001b[0m\n\u001b[1;32m      1\u001b[0m \u001b[38;5;66;03m# Categorize the spending based on the bins\u001b[39;00m\n\u001b[1;32m      2\u001b[0m \u001b[38;5;66;03m# Use `pd.cut` on the \"Total Students\" column of the `per_school_summary` DataFrame\u001b[39;00m\n\u001b[0;32m----> 3\u001b[0m school_size_df[\u001b[38;5;124m\"\u001b[39m\u001b[38;5;124mSchool Size\u001b[39m\u001b[38;5;124m\"\u001b[39m] \u001b[38;5;241m=\u001b[39m pd\u001b[38;5;241m.\u001b[39mcut(\u001b[43mschool_size_df\u001b[49m[\u001b[38;5;124m\"\u001b[39m\u001b[38;5;124mTotal Students\u001b[39m\u001b[38;5;124m\"\u001b[39m], size_bins, labels\u001b[38;5;241m=\u001b[39msize_labels)\n\u001b[1;32m      4\u001b[0m school_size_df\u001b[38;5;241m.\u001b[39mhead(\u001b[38;5;241m3\u001b[39m)\n",
      "\u001b[0;31mNameError\u001b[0m: name 'school_size_df' is not defined"
     ]
    }
   ],
   "source": [
    "# Categorize the spending based on the bins\n",
    "# Use `pd.cut` on the \"Total Students\" column of the `per_school_summary` DataFrame\n",
    "school_size_df[\"School Size\"] = pd.cut(school_size_df[\"Total Students\"], size_bins, labels=size_labels)\n",
    "school_size_df.head(3)"
   ]
  },
  {
   "cell_type": "code",
   "execution_count": 52,
   "metadata": {},
   "outputs": [
    {
     "ename": "NameError",
     "evalue": "name 'per_school_summary' is not defined",
     "output_type": "error",
     "traceback": [
      "\u001b[0;31m---------------------------------------------------------------------------\u001b[0m",
      "\u001b[0;31mNameError\u001b[0m                                 Traceback (most recent call last)",
      "Cell \u001b[0;32mIn[52], line 2\u001b[0m\n\u001b[1;32m      1\u001b[0m \u001b[38;5;66;03m# Calculate averages for the desired columns.\u001b[39;00m\n\u001b[0;32m----> 2\u001b[0m size_math_scores \u001b[38;5;241m=\u001b[39m \u001b[43mper_school_summary\u001b[49m\u001b[38;5;241m.\u001b[39mgroupby([\u001b[38;5;124m\"\u001b[39m\u001b[38;5;124mSchool Size\u001b[39m\u001b[38;5;124m\"\u001b[39m])[\u001b[38;5;124m\"\u001b[39m\u001b[38;5;124mAverage Math Score\u001b[39m\u001b[38;5;124m\"\u001b[39m]\u001b[38;5;241m.\u001b[39mmean()\n\u001b[1;32m      3\u001b[0m size_reading_scores \u001b[38;5;241m=\u001b[39m per_school_summary\u001b[38;5;241m.\u001b[39mgroupby([\u001b[38;5;124m\"\u001b[39m\u001b[38;5;124mSchool Size\u001b[39m\u001b[38;5;124m\"\u001b[39m])[\u001b[38;5;124m\"\u001b[39m\u001b[38;5;124mAverage Reading Score\u001b[39m\u001b[38;5;124m\"\u001b[39m]\u001b[38;5;241m.\u001b[39mmean()\n\u001b[1;32m      4\u001b[0m size_passing_math \u001b[38;5;241m=\u001b[39m per_school_summary\u001b[38;5;241m.\u001b[39mgroupby([\u001b[38;5;124m\"\u001b[39m\u001b[38;5;124mSchool Size\u001b[39m\u001b[38;5;124m\"\u001b[39m])[\u001b[38;5;124m\"\u001b[39m\u001b[38;5;124m%\u001b[39m\u001b[38;5;124m Passing Math\u001b[39m\u001b[38;5;124m\"\u001b[39m]\u001b[38;5;241m.\u001b[39mmean()\n",
      "\u001b[0;31mNameError\u001b[0m: name 'per_school_summary' is not defined"
     ]
    }
   ],
   "source": [
    "# Calculate averages for the desired columns.\n",
    "size_math_scores = per_school_summary.groupby([\"School Size\"])[\"Average Math Score\"].mean()\n",
    "size_reading_scores = per_school_summary.groupby([\"School Size\"])[\"Average Reading Score\"].mean()\n",
    "size_passing_math = per_school_summary.groupby([\"School Size\"])[\"% Passing Math\"].mean()\n",
    "size_passing_reading = per_school_summary.groupby([\"School Size\"])[\"% Passing Reading\"].mean()\n",
    "size_overall_passing = per_school_summary.groupby([\"School Size\"])[\"% Overall Passing\"].mean()\n"
   ]
  },
  {
   "cell_type": "code",
   "execution_count": 53,
   "metadata": {
    "scrolled": true
   },
   "outputs": [
    {
     "ename": "NameError",
     "evalue": "name 'size_math_scores' is not defined",
     "output_type": "error",
     "traceback": [
      "\u001b[0;31m---------------------------------------------------------------------------\u001b[0m",
      "\u001b[0;31mNameError\u001b[0m                                 Traceback (most recent call last)",
      "Cell \u001b[0;32mIn[53], line 2\u001b[0m\n\u001b[1;32m      1\u001b[0m \u001b[38;5;66;03m# Create a DataFrame using the binned and averaged size data\u001b[39;00m\n\u001b[0;32m----> 2\u001b[0m size_summary \u001b[38;5;241m=\u001b[39m pd\u001b[38;5;241m.\u001b[39mDataFrame ({\u001b[38;5;124m\"\u001b[39m\u001b[38;5;124mAverage Math Score\u001b[39m\u001b[38;5;124m\"\u001b[39m : \u001b[43msize_math_scores\u001b[49m, \n\u001b[1;32m      3\u001b[0m                               \u001b[38;5;124m\"\u001b[39m\u001b[38;5;124mAverage Reading Score\u001b[39m\u001b[38;5;124m\"\u001b[39m : size_reading_scores,\n\u001b[1;32m      4\u001b[0m                               \u001b[38;5;124m\"\u001b[39m\u001b[38;5;124m%\u001b[39m\u001b[38;5;124m Passing Math\u001b[39m\u001b[38;5;124m\"\u001b[39m : size_passing_math,\n\u001b[1;32m      5\u001b[0m                               \u001b[38;5;124m\"\u001b[39m\u001b[38;5;124m%\u001b[39m\u001b[38;5;124m Passing Reading\u001b[39m\u001b[38;5;124m\"\u001b[39m : size_passing_reading,\n\u001b[1;32m      6\u001b[0m                               \u001b[38;5;124m\"\u001b[39m\u001b[38;5;124m%\u001b[39m\u001b[38;5;124m Overall Passing\u001b[39m\u001b[38;5;124m\"\u001b[39m : size_overall_passing})\n\u001b[1;32m      8\u001b[0m \u001b[38;5;66;03m# Display results\u001b[39;00m\n\u001b[1;32m      9\u001b[0m size_summary\n",
      "\u001b[0;31mNameError\u001b[0m: name 'size_math_scores' is not defined"
     ]
    }
   ],
   "source": [
    "# Create a DataFrame using the binned and averaged size data\n",
    "size_summary = pd.DataFrame ({\"Average Math Score\" : size_math_scores, \n",
    "                              \"Average Reading Score\" : size_reading_scores,\n",
    "                              \"% Passing Math\" : size_passing_math,\n",
    "                              \"% Passing Reading\" : size_passing_reading,\n",
    "                              \"% Overall Passing\" : size_overall_passing})\n",
    "\n",
    "# Display results\n",
    "size_summary"
   ]
  },
  {
   "cell_type": "markdown",
   "metadata": {},
   "source": [
    "## Scores by School Type"
   ]
  },
  {
   "cell_type": "code",
   "execution_count": 54,
   "metadata": {},
   "outputs": [
    {
     "ename": "NameError",
     "evalue": "name 'per_school_summary' is not defined",
     "output_type": "error",
     "traceback": [
      "\u001b[0;31m---------------------------------------------------------------------------\u001b[0m",
      "\u001b[0;31mNameError\u001b[0m                                 Traceback (most recent call last)",
      "Cell \u001b[0;32mIn[54], line 2\u001b[0m\n\u001b[1;32m      1\u001b[0m \u001b[38;5;66;03m# Group the per_school_summary DataFrame by \"School Type\" and average the results.\u001b[39;00m\n\u001b[0;32m----> 2\u001b[0m average_math_score_by_type \u001b[38;5;241m=\u001b[39m \u001b[43mper_school_summary\u001b[49m\u001b[38;5;241m.\u001b[39mgroupby([\u001b[38;5;124m\"\u001b[39m\u001b[38;5;124mSchool Type\u001b[39m\u001b[38;5;124m\"\u001b[39m])[\u001b[38;5;124m\"\u001b[39m\u001b[38;5;124mAverage Math Score\u001b[39m\u001b[38;5;124m\"\u001b[39m]\u001b[38;5;241m.\u001b[39mmean()\n\u001b[1;32m      3\u001b[0m average_reading_score_by_type \u001b[38;5;241m=\u001b[39m per_school_summary\u001b[38;5;241m.\u001b[39mgroupby([\u001b[38;5;124m\"\u001b[39m\u001b[38;5;124mSchool Type\u001b[39m\u001b[38;5;124m\"\u001b[39m])[\u001b[38;5;124m\"\u001b[39m\u001b[38;5;124mAverage Reading Score\u001b[39m\u001b[38;5;124m\"\u001b[39m]\u001b[38;5;241m.\u001b[39mmean()\n\u001b[1;32m      4\u001b[0m average_percent_passing_math_by_type \u001b[38;5;241m=\u001b[39m per_school_summary\u001b[38;5;241m.\u001b[39mgroupby([\u001b[38;5;124m\"\u001b[39m\u001b[38;5;124mSchool Type\u001b[39m\u001b[38;5;124m\"\u001b[39m])[\u001b[38;5;124m\"\u001b[39m\u001b[38;5;124m%\u001b[39m\u001b[38;5;124m Passing Math\u001b[39m\u001b[38;5;124m\"\u001b[39m]\u001b[38;5;241m.\u001b[39mmean()\n",
      "\u001b[0;31mNameError\u001b[0m: name 'per_school_summary' is not defined"
     ]
    }
   ],
   "source": [
    "# Group the per_school_summary DataFrame by \"School Type\" and average the results.\n",
    "average_math_score_by_type = per_school_summary.groupby([\"School Type\"])[\"Average Math Score\"].mean()\n",
    "average_reading_score_by_type = per_school_summary.groupby([\"School Type\"])[\"Average Reading Score\"].mean()\n",
    "average_percent_passing_math_by_type = per_school_summary.groupby([\"School Type\"])[\"% Passing Math\"].mean()\n",
    "average_percent_passing_reading_by_type = per_school_summary.groupby([\"School Type\"])[\"% Passing Reading\"].mean()\n",
    "average_percent_overall_passing_by_type = per_school_summary.groupby([\"School Type\"])[\"% Overall Passing\"].mean()\n"
   ]
  },
  {
   "cell_type": "code",
   "execution_count": 55,
   "metadata": {},
   "outputs": [
    {
     "ename": "NameError",
     "evalue": "name 'average_math_score_by_type' is not defined",
     "output_type": "error",
     "traceback": [
      "\u001b[0;31m---------------------------------------------------------------------------\u001b[0m",
      "\u001b[0;31mNameError\u001b[0m                                 Traceback (most recent call last)",
      "Cell \u001b[0;32mIn[55], line 2\u001b[0m\n\u001b[1;32m      1\u001b[0m \u001b[38;5;66;03m# Assemble the new data by type into a DataFrame called `type_summary` using the new column data\u001b[39;00m\n\u001b[0;32m----> 2\u001b[0m type_summary \u001b[38;5;241m=\u001b[39m pd\u001b[38;5;241m.\u001b[39mDataFrame ({\u001b[38;5;124m\"\u001b[39m\u001b[38;5;124mAverage Math Score\u001b[39m\u001b[38;5;124m\"\u001b[39m : \u001b[43maverage_math_score_by_type\u001b[49m, \n\u001b[1;32m      3\u001b[0m                               \u001b[38;5;124m\"\u001b[39m\u001b[38;5;124mAverage Reading Score\u001b[39m\u001b[38;5;124m\"\u001b[39m : average_reading_score_by_type,\n\u001b[1;32m      4\u001b[0m                               \u001b[38;5;124m\"\u001b[39m\u001b[38;5;124m%\u001b[39m\u001b[38;5;124m Passing Math\u001b[39m\u001b[38;5;124m\"\u001b[39m : average_percent_passing_math_by_type,\n\u001b[1;32m      5\u001b[0m                               \u001b[38;5;124m\"\u001b[39m\u001b[38;5;124m%\u001b[39m\u001b[38;5;124m Passing Reading\u001b[39m\u001b[38;5;124m\"\u001b[39m : average_percent_passing_reading_by_type,\n\u001b[1;32m      6\u001b[0m                               \u001b[38;5;124m\"\u001b[39m\u001b[38;5;124m%\u001b[39m\u001b[38;5;124m Overall Passing\u001b[39m\u001b[38;5;124m\"\u001b[39m : average_percent_overall_passing_by_type})\n\u001b[1;32m      8\u001b[0m \u001b[38;5;66;03m# Display results\u001b[39;00m\n\u001b[1;32m      9\u001b[0m type_summary\n",
      "\u001b[0;31mNameError\u001b[0m: name 'average_math_score_by_type' is not defined"
     ]
    }
   ],
   "source": [
    "# Assemble the new data by type into a DataFrame called `type_summary` using the new column data\n",
    "type_summary = pd.DataFrame ({\"Average Math Score\" : average_math_score_by_type, \n",
    "                              \"Average Reading Score\" : average_reading_score_by_type,\n",
    "                              \"% Passing Math\" : average_percent_passing_math_by_type,\n",
    "                              \"% Passing Reading\" : average_percent_passing_reading_by_type,\n",
    "                              \"% Overall Passing\" : average_percent_overall_passing_by_type})\n",
    "\n",
    "# Display results\n",
    "type_summary"
   ]
  },
  {
   "cell_type": "code",
   "execution_count": null,
   "metadata": {},
   "outputs": [],
   "source": []
  }
 ],
 "metadata": {
  "anaconda-cloud": {},
  "kernel_info": {
   "name": "python3"
  },
  "kernelspec": {
   "display_name": "Python 3 (ipykernel)",
   "language": "python",
   "name": "python3"
  },
  "language_info": {
   "codemirror_mode": {
    "name": "ipython",
    "version": 3
   },
   "file_extension": ".py",
   "mimetype": "text/x-python",
   "name": "python",
   "nbconvert_exporter": "python",
   "pygments_lexer": "ipython3",
   "version": "3.10.14"
  },
  "latex_envs": {
   "LaTeX_envs_menu_present": true,
   "autoclose": false,
   "autocomplete": true,
   "bibliofile": "biblio.bib",
   "cite_by": "apalike",
   "current_citInitial": 1,
   "eqLabelWithNumbers": true,
   "eqNumInitial": 1,
   "hotkeys": {
    "equation": "Ctrl-E",
    "itemize": "Ctrl-I"
   },
   "labels_anchors": false,
   "latex_user_defs": false,
   "report_style_numbering": false,
   "user_envs_cfg": false
  },
  "nteract": {
   "version": "0.8.4"
  },
  "vscode": {
   "interpreter": {
    "hash": "5384d77d82de63fd599f73e77f9ec786e7719288bf80a29ec0288c670ac3cf32"
   }
  }
 },
 "nbformat": 4,
 "nbformat_minor": 4
}
